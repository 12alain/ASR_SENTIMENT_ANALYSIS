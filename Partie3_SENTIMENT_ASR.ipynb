{
  "nbformat": 4,
  "nbformat_minor": 0,
  "metadata": {
    "colab": {
      "provenance": [],
      "gpuType": "T4"
    },
    "kernelspec": {
      "name": "python3",
      "display_name": "Python 3"
    },
    "language_info": {
      "name": "python"
    },
    "accelerator": "GPU",
    "widgets": {
      "application/vnd.jupyter.widget-state+json": {
        "12adb41b027d4048ad3a1f5300bb07d1": {
          "model_module": "jupyter-webrtc",
          "model_name": "AudioRecorderModel",
          "model_module_version": "~0.6.0",
          "state": {
            "_data_src": "blob:https://xeqapqj7u9p-496ff2e9c6d22116-0-colab.googleusercontent.com/6f4b6d0b-3b4d-42cd-9850-7ac296d39368",
            "_dom_classes": [],
            "_model_module": "jupyter-webrtc",
            "_model_module_version": "~0.6.0",
            "_model_name": "AudioRecorderModel",
            "_view_count": null,
            "_view_module": "jupyter-webrtc",
            "_view_module_version": "~0.6.0",
            "_view_name": "AudioRecorderView",
            "audio": "IPY_MODEL_dd7943011e6c49ffbcd128f36baa4f4b",
            "autosave": false,
            "codecs": "",
            "filename": "record",
            "format": "webm",
            "layout": "IPY_MODEL_b7a6644b573f4fffa055e9962d87910d",
            "recording": false,
            "stream": "IPY_MODEL_442530355db742fe86a7ad016275312d"
          }
        },
        "dd7943011e6c49ffbcd128f36baa4f4b": {
          "model_module": "@jupyter-widgets/controls",
          "model_name": "AudioModel",
          "model_module_version": "1.5.0",
          "state": {
            "_dom_classes": [],
            "_model_module": "@jupyter-widgets/controls",
            "_model_module_version": "1.5.0",
            "_model_name": "AudioModel",
            "_view_count": null,
            "_view_module": "@jupyter-widgets/controls",
            "_view_module_version": "1.5.0",
            "_view_name": "AudioView",
            "autoplay": true,
            "controls": true,
            "format": "webm",
            "layout": "IPY_MODEL_a3cde2b77826417e89277b3e36f86e18",
            "loop": true
          }
        },
        "b7a6644b573f4fffa055e9962d87910d": {
          "model_module": "@jupyter-widgets/base",
          "model_name": "LayoutModel",
          "model_module_version": "1.2.0",
          "state": {
            "_model_module": "@jupyter-widgets/base",
            "_model_module_version": "1.2.0",
            "_model_name": "LayoutModel",
            "_view_count": null,
            "_view_module": "@jupyter-widgets/base",
            "_view_module_version": "1.2.0",
            "_view_name": "LayoutView",
            "align_content": null,
            "align_items": null,
            "align_self": null,
            "border": null,
            "bottom": null,
            "display": null,
            "flex": null,
            "flex_flow": null,
            "grid_area": null,
            "grid_auto_columns": null,
            "grid_auto_flow": null,
            "grid_auto_rows": null,
            "grid_column": null,
            "grid_gap": null,
            "grid_row": null,
            "grid_template_areas": null,
            "grid_template_columns": null,
            "grid_template_rows": null,
            "height": null,
            "justify_content": null,
            "justify_items": null,
            "left": null,
            "margin": null,
            "max_height": null,
            "max_width": null,
            "min_height": null,
            "min_width": null,
            "object_fit": null,
            "object_position": null,
            "order": null,
            "overflow": null,
            "overflow_x": null,
            "overflow_y": null,
            "padding": null,
            "right": null,
            "top": null,
            "visibility": null,
            "width": null
          }
        },
        "442530355db742fe86a7ad016275312d": {
          "model_module": "jupyter-webrtc",
          "model_name": "CameraStreamModel",
          "model_module_version": "~0.6.0",
          "state": {
            "_dom_classes": [],
            "_model_module": "jupyter-webrtc",
            "_model_module_version": "~0.6.0",
            "_model_name": "CameraStreamModel",
            "_view_count": null,
            "_view_module": "jupyter-webrtc",
            "_view_module_version": "~0.6.0",
            "_view_name": "MediaStreamView",
            "constraints": {
              "audio": true,
              "video": false
            },
            "layout": "IPY_MODEL_c5ec594ef054408494a5532ed7843113"
          }
        },
        "a3cde2b77826417e89277b3e36f86e18": {
          "model_module": "@jupyter-widgets/base",
          "model_name": "LayoutModel",
          "model_module_version": "1.2.0",
          "state": {
            "_model_module": "@jupyter-widgets/base",
            "_model_module_version": "1.2.0",
            "_model_name": "LayoutModel",
            "_view_count": null,
            "_view_module": "@jupyter-widgets/base",
            "_view_module_version": "1.2.0",
            "_view_name": "LayoutView",
            "align_content": null,
            "align_items": null,
            "align_self": null,
            "border": null,
            "bottom": null,
            "display": null,
            "flex": null,
            "flex_flow": null,
            "grid_area": null,
            "grid_auto_columns": null,
            "grid_auto_flow": null,
            "grid_auto_rows": null,
            "grid_column": null,
            "grid_gap": null,
            "grid_row": null,
            "grid_template_areas": null,
            "grid_template_columns": null,
            "grid_template_rows": null,
            "height": null,
            "justify_content": null,
            "justify_items": null,
            "left": null,
            "margin": null,
            "max_height": null,
            "max_width": null,
            "min_height": null,
            "min_width": null,
            "object_fit": null,
            "object_position": null,
            "order": null,
            "overflow": null,
            "overflow_x": null,
            "overflow_y": null,
            "padding": null,
            "right": null,
            "top": null,
            "visibility": null,
            "width": null
          }
        },
        "c5ec594ef054408494a5532ed7843113": {
          "model_module": "@jupyter-widgets/base",
          "model_name": "LayoutModel",
          "model_module_version": "1.2.0",
          "state": {
            "_model_module": "@jupyter-widgets/base",
            "_model_module_version": "1.2.0",
            "_model_name": "LayoutModel",
            "_view_count": null,
            "_view_module": "@jupyter-widgets/base",
            "_view_module_version": "1.2.0",
            "_view_name": "LayoutView",
            "align_content": null,
            "align_items": null,
            "align_self": null,
            "border": null,
            "bottom": null,
            "display": null,
            "flex": null,
            "flex_flow": null,
            "grid_area": null,
            "grid_auto_columns": null,
            "grid_auto_flow": null,
            "grid_auto_rows": null,
            "grid_column": null,
            "grid_gap": null,
            "grid_row": null,
            "grid_template_areas": null,
            "grid_template_columns": null,
            "grid_template_rows": null,
            "height": null,
            "justify_content": null,
            "justify_items": null,
            "left": null,
            "margin": null,
            "max_height": null,
            "max_width": null,
            "min_height": null,
            "min_width": null,
            "object_fit": null,
            "object_position": null,
            "order": null,
            "overflow": null,
            "overflow_x": null,
            "overflow_y": null,
            "padding": null,
            "right": null,
            "top": null,
            "visibility": null,
            "width": null
          }
        },
        "265afd7b10424f099cd00912364363a4": {
          "model_module": "@jupyter-widgets/controls",
          "model_name": "HBoxModel",
          "model_module_version": "1.5.0",
          "state": {
            "_dom_classes": [],
            "_model_module": "@jupyter-widgets/controls",
            "_model_module_version": "1.5.0",
            "_model_name": "HBoxModel",
            "_view_count": null,
            "_view_module": "@jupyter-widgets/controls",
            "_view_module_version": "1.5.0",
            "_view_name": "HBoxView",
            "box_style": "",
            "children": [
              "IPY_MODEL_74ef741cf87f4227b73da3d4bea45e53",
              "IPY_MODEL_dee7f4717af74a68b212872d883f612f",
              "IPY_MODEL_2e07d7cf916f4a879c93f1fdccca6527"
            ],
            "layout": "IPY_MODEL_427c34a8b6c747739e97262abb5fad4c"
          }
        },
        "74ef741cf87f4227b73da3d4bea45e53": {
          "model_module": "@jupyter-widgets/controls",
          "model_name": "HTMLModel",
          "model_module_version": "1.5.0",
          "state": {
            "_dom_classes": [],
            "_model_module": "@jupyter-widgets/controls",
            "_model_module_version": "1.5.0",
            "_model_name": "HTMLModel",
            "_view_count": null,
            "_view_module": "@jupyter-widgets/controls",
            "_view_module_version": "1.5.0",
            "_view_name": "HTMLView",
            "description": "",
            "description_tooltip": null,
            "layout": "IPY_MODEL_776647b10b474cc4ba93470f4d5b885f",
            "placeholder": "​",
            "style": "IPY_MODEL_d8c963ffe6564a77881dd429ce727c53",
            "value": "config.json: 100%"
          }
        },
        "dee7f4717af74a68b212872d883f612f": {
          "model_module": "@jupyter-widgets/controls",
          "model_name": "FloatProgressModel",
          "model_module_version": "1.5.0",
          "state": {
            "_dom_classes": [],
            "_model_module": "@jupyter-widgets/controls",
            "_model_module_version": "1.5.0",
            "_model_name": "FloatProgressModel",
            "_view_count": null,
            "_view_module": "@jupyter-widgets/controls",
            "_view_module_version": "1.5.0",
            "_view_name": "ProgressView",
            "bar_style": "success",
            "description": "",
            "description_tooltip": null,
            "layout": "IPY_MODEL_e50ba3531ed74540b954d9723f7e2a45",
            "max": 1531,
            "min": 0,
            "orientation": "horizontal",
            "style": "IPY_MODEL_32751455105845eb95b9b354d281d180",
            "value": 1531
          }
        },
        "2e07d7cf916f4a879c93f1fdccca6527": {
          "model_module": "@jupyter-widgets/controls",
          "model_name": "HTMLModel",
          "model_module_version": "1.5.0",
          "state": {
            "_dom_classes": [],
            "_model_module": "@jupyter-widgets/controls",
            "_model_module_version": "1.5.0",
            "_model_name": "HTMLModel",
            "_view_count": null,
            "_view_module": "@jupyter-widgets/controls",
            "_view_module_version": "1.5.0",
            "_view_name": "HTMLView",
            "description": "",
            "description_tooltip": null,
            "layout": "IPY_MODEL_8c040febd4d744c7a2ce1136b5aa4d3c",
            "placeholder": "​",
            "style": "IPY_MODEL_7a6fa1cdf61b4006ba7b98b96ae981e9",
            "value": " 1.53k/1.53k [00:00&lt;00:00, 42.2kB/s]"
          }
        },
        "427c34a8b6c747739e97262abb5fad4c": {
          "model_module": "@jupyter-widgets/base",
          "model_name": "LayoutModel",
          "model_module_version": "1.2.0",
          "state": {
            "_model_module": "@jupyter-widgets/base",
            "_model_module_version": "1.2.0",
            "_model_name": "LayoutModel",
            "_view_count": null,
            "_view_module": "@jupyter-widgets/base",
            "_view_module_version": "1.2.0",
            "_view_name": "LayoutView",
            "align_content": null,
            "align_items": null,
            "align_self": null,
            "border": null,
            "bottom": null,
            "display": null,
            "flex": null,
            "flex_flow": null,
            "grid_area": null,
            "grid_auto_columns": null,
            "grid_auto_flow": null,
            "grid_auto_rows": null,
            "grid_column": null,
            "grid_gap": null,
            "grid_row": null,
            "grid_template_areas": null,
            "grid_template_columns": null,
            "grid_template_rows": null,
            "height": null,
            "justify_content": null,
            "justify_items": null,
            "left": null,
            "margin": null,
            "max_height": null,
            "max_width": null,
            "min_height": null,
            "min_width": null,
            "object_fit": null,
            "object_position": null,
            "order": null,
            "overflow": null,
            "overflow_x": null,
            "overflow_y": null,
            "padding": null,
            "right": null,
            "top": null,
            "visibility": null,
            "width": null
          }
        },
        "776647b10b474cc4ba93470f4d5b885f": {
          "model_module": "@jupyter-widgets/base",
          "model_name": "LayoutModel",
          "model_module_version": "1.2.0",
          "state": {
            "_model_module": "@jupyter-widgets/base",
            "_model_module_version": "1.2.0",
            "_model_name": "LayoutModel",
            "_view_count": null,
            "_view_module": "@jupyter-widgets/base",
            "_view_module_version": "1.2.0",
            "_view_name": "LayoutView",
            "align_content": null,
            "align_items": null,
            "align_self": null,
            "border": null,
            "bottom": null,
            "display": null,
            "flex": null,
            "flex_flow": null,
            "grid_area": null,
            "grid_auto_columns": null,
            "grid_auto_flow": null,
            "grid_auto_rows": null,
            "grid_column": null,
            "grid_gap": null,
            "grid_row": null,
            "grid_template_areas": null,
            "grid_template_columns": null,
            "grid_template_rows": null,
            "height": null,
            "justify_content": null,
            "justify_items": null,
            "left": null,
            "margin": null,
            "max_height": null,
            "max_width": null,
            "min_height": null,
            "min_width": null,
            "object_fit": null,
            "object_position": null,
            "order": null,
            "overflow": null,
            "overflow_x": null,
            "overflow_y": null,
            "padding": null,
            "right": null,
            "top": null,
            "visibility": null,
            "width": null
          }
        },
        "d8c963ffe6564a77881dd429ce727c53": {
          "model_module": "@jupyter-widgets/controls",
          "model_name": "DescriptionStyleModel",
          "model_module_version": "1.5.0",
          "state": {
            "_model_module": "@jupyter-widgets/controls",
            "_model_module_version": "1.5.0",
            "_model_name": "DescriptionStyleModel",
            "_view_count": null,
            "_view_module": "@jupyter-widgets/base",
            "_view_module_version": "1.2.0",
            "_view_name": "StyleView",
            "description_width": ""
          }
        },
        "e50ba3531ed74540b954d9723f7e2a45": {
          "model_module": "@jupyter-widgets/base",
          "model_name": "LayoutModel",
          "model_module_version": "1.2.0",
          "state": {
            "_model_module": "@jupyter-widgets/base",
            "_model_module_version": "1.2.0",
            "_model_name": "LayoutModel",
            "_view_count": null,
            "_view_module": "@jupyter-widgets/base",
            "_view_module_version": "1.2.0",
            "_view_name": "LayoutView",
            "align_content": null,
            "align_items": null,
            "align_self": null,
            "border": null,
            "bottom": null,
            "display": null,
            "flex": null,
            "flex_flow": null,
            "grid_area": null,
            "grid_auto_columns": null,
            "grid_auto_flow": null,
            "grid_auto_rows": null,
            "grid_column": null,
            "grid_gap": null,
            "grid_row": null,
            "grid_template_areas": null,
            "grid_template_columns": null,
            "grid_template_rows": null,
            "height": null,
            "justify_content": null,
            "justify_items": null,
            "left": null,
            "margin": null,
            "max_height": null,
            "max_width": null,
            "min_height": null,
            "min_width": null,
            "object_fit": null,
            "object_position": null,
            "order": null,
            "overflow": null,
            "overflow_x": null,
            "overflow_y": null,
            "padding": null,
            "right": null,
            "top": null,
            "visibility": null,
            "width": null
          }
        },
        "32751455105845eb95b9b354d281d180": {
          "model_module": "@jupyter-widgets/controls",
          "model_name": "ProgressStyleModel",
          "model_module_version": "1.5.0",
          "state": {
            "_model_module": "@jupyter-widgets/controls",
            "_model_module_version": "1.5.0",
            "_model_name": "ProgressStyleModel",
            "_view_count": null,
            "_view_module": "@jupyter-widgets/base",
            "_view_module_version": "1.2.0",
            "_view_name": "StyleView",
            "bar_color": null,
            "description_width": ""
          }
        },
        "8c040febd4d744c7a2ce1136b5aa4d3c": {
          "model_module": "@jupyter-widgets/base",
          "model_name": "LayoutModel",
          "model_module_version": "1.2.0",
          "state": {
            "_model_module": "@jupyter-widgets/base",
            "_model_module_version": "1.2.0",
            "_model_name": "LayoutModel",
            "_view_count": null,
            "_view_module": "@jupyter-widgets/base",
            "_view_module_version": "1.2.0",
            "_view_name": "LayoutView",
            "align_content": null,
            "align_items": null,
            "align_self": null,
            "border": null,
            "bottom": null,
            "display": null,
            "flex": null,
            "flex_flow": null,
            "grid_area": null,
            "grid_auto_columns": null,
            "grid_auto_flow": null,
            "grid_auto_rows": null,
            "grid_column": null,
            "grid_gap": null,
            "grid_row": null,
            "grid_template_areas": null,
            "grid_template_columns": null,
            "grid_template_rows": null,
            "height": null,
            "justify_content": null,
            "justify_items": null,
            "left": null,
            "margin": null,
            "max_height": null,
            "max_width": null,
            "min_height": null,
            "min_width": null,
            "object_fit": null,
            "object_position": null,
            "order": null,
            "overflow": null,
            "overflow_x": null,
            "overflow_y": null,
            "padding": null,
            "right": null,
            "top": null,
            "visibility": null,
            "width": null
          }
        },
        "7a6fa1cdf61b4006ba7b98b96ae981e9": {
          "model_module": "@jupyter-widgets/controls",
          "model_name": "DescriptionStyleModel",
          "model_module_version": "1.5.0",
          "state": {
            "_model_module": "@jupyter-widgets/controls",
            "_model_module_version": "1.5.0",
            "_model_name": "DescriptionStyleModel",
            "_view_count": null,
            "_view_module": "@jupyter-widgets/base",
            "_view_module_version": "1.2.0",
            "_view_name": "StyleView",
            "description_width": ""
          }
        },
        "3ac11374d3e1496ab0e5ff1d5c249bac": {
          "model_module": "@jupyter-widgets/base",
          "model_name": "LayoutModel",
          "model_module_version": "1.2.0",
          "state": {
            "_model_module": "@jupyter-widgets/base",
            "_model_module_version": "1.2.0",
            "_model_name": "LayoutModel",
            "_view_count": null,
            "_view_module": "@jupyter-widgets/base",
            "_view_module_version": "1.2.0",
            "_view_name": "LayoutView",
            "align_content": null,
            "align_items": null,
            "align_self": null,
            "border": null,
            "bottom": null,
            "display": null,
            "flex": null,
            "flex_flow": null,
            "grid_area": null,
            "grid_auto_columns": null,
            "grid_auto_flow": null,
            "grid_auto_rows": null,
            "grid_column": null,
            "grid_gap": null,
            "grid_row": null,
            "grid_template_areas": null,
            "grid_template_columns": null,
            "grid_template_rows": null,
            "height": null,
            "justify_content": null,
            "justify_items": null,
            "left": null,
            "margin": null,
            "max_height": null,
            "max_width": null,
            "min_height": null,
            "min_width": null,
            "object_fit": null,
            "object_position": null,
            "order": null,
            "overflow": null,
            "overflow_x": null,
            "overflow_y": null,
            "padding": null,
            "right": null,
            "top": null,
            "visibility": null,
            "width": null
          }
        },
        "240bc976fba141d396dd96a8c39ea067": {
          "model_module": "@jupyter-widgets/controls",
          "model_name": "ProgressStyleModel",
          "model_module_version": "1.5.0",
          "state": {
            "_model_module": "@jupyter-widgets/controls",
            "_model_module_version": "1.5.0",
            "_model_name": "ProgressStyleModel",
            "_view_count": null,
            "_view_module": "@jupyter-widgets/base",
            "_view_module_version": "1.2.0",
            "_view_name": "StyleView",
            "bar_color": null,
            "description_width": ""
          }
        },
        "315b3aacdd6149c383179eb095ad673e": {
          "model_module": "@jupyter-widgets/base",
          "model_name": "LayoutModel",
          "model_module_version": "1.2.0",
          "state": {
            "_model_module": "@jupyter-widgets/base",
            "_model_module_version": "1.2.0",
            "_model_name": "LayoutModel",
            "_view_count": null,
            "_view_module": "@jupyter-widgets/base",
            "_view_module_version": "1.2.0",
            "_view_name": "LayoutView",
            "align_content": null,
            "align_items": null,
            "align_self": null,
            "border": null,
            "bottom": null,
            "display": null,
            "flex": null,
            "flex_flow": null,
            "grid_area": null,
            "grid_auto_columns": null,
            "grid_auto_flow": null,
            "grid_auto_rows": null,
            "grid_column": null,
            "grid_gap": null,
            "grid_row": null,
            "grid_template_areas": null,
            "grid_template_columns": null,
            "grid_template_rows": null,
            "height": null,
            "justify_content": null,
            "justify_items": null,
            "left": null,
            "margin": null,
            "max_height": null,
            "max_width": null,
            "min_height": null,
            "min_width": null,
            "object_fit": null,
            "object_position": null,
            "order": null,
            "overflow": null,
            "overflow_x": null,
            "overflow_y": null,
            "padding": null,
            "right": null,
            "top": null,
            "visibility": null,
            "width": null
          }
        },
        "b0b87865207f404d97ee2436dd73b727": {
          "model_module": "@jupyter-widgets/controls",
          "model_name": "DescriptionStyleModel",
          "model_module_version": "1.5.0",
          "state": {
            "_model_module": "@jupyter-widgets/controls",
            "_model_module_version": "1.5.0",
            "_model_name": "DescriptionStyleModel",
            "_view_count": null,
            "_view_module": "@jupyter-widgets/base",
            "_view_module_version": "1.2.0",
            "_view_name": "StyleView",
            "description_width": ""
          }
        },
        "9d5f139cedd74ee2b1ae434c569de1d9": {
          "model_module": "@jupyter-widgets/base",
          "model_name": "LayoutModel",
          "model_module_version": "1.2.0",
          "state": {
            "_model_module": "@jupyter-widgets/base",
            "_model_module_version": "1.2.0",
            "_model_name": "LayoutModel",
            "_view_count": null,
            "_view_module": "@jupyter-widgets/base",
            "_view_module_version": "1.2.0",
            "_view_name": "LayoutView",
            "align_content": null,
            "align_items": null,
            "align_self": null,
            "border": null,
            "bottom": null,
            "display": null,
            "flex": null,
            "flex_flow": null,
            "grid_area": null,
            "grid_auto_columns": null,
            "grid_auto_flow": null,
            "grid_auto_rows": null,
            "grid_column": null,
            "grid_gap": null,
            "grid_row": null,
            "grid_template_areas": null,
            "grid_template_columns": null,
            "grid_template_rows": null,
            "height": null,
            "justify_content": null,
            "justify_items": null,
            "left": null,
            "margin": null,
            "max_height": null,
            "max_width": null,
            "min_height": null,
            "min_width": null,
            "object_fit": null,
            "object_position": null,
            "order": null,
            "overflow": null,
            "overflow_x": null,
            "overflow_y": null,
            "padding": null,
            "right": null,
            "top": null,
            "visibility": null,
            "width": null
          }
        },
        "417191fc2c324d4c8dc13e697465b655": {
          "model_module": "@jupyter-widgets/controls",
          "model_name": "DescriptionStyleModel",
          "model_module_version": "1.5.0",
          "state": {
            "_model_module": "@jupyter-widgets/controls",
            "_model_module_version": "1.5.0",
            "_model_name": "DescriptionStyleModel",
            "_view_count": null,
            "_view_module": "@jupyter-widgets/base",
            "_view_module_version": "1.2.0",
            "_view_name": "StyleView",
            "description_width": ""
          }
        },
        "5358cf0e77d34da195b4544509f7cd55": {
          "model_module": "@jupyter-widgets/controls",
          "model_name": "HTMLModel",
          "model_module_version": "1.5.0",
          "state": {
            "_dom_classes": [],
            "_model_module": "@jupyter-widgets/controls",
            "_model_module_version": "1.5.0",
            "_model_name": "HTMLModel",
            "_view_count": null,
            "_view_module": "@jupyter-widgets/controls",
            "_view_module_version": "1.5.0",
            "_view_name": "HTMLView",
            "description": "",
            "description_tooltip": null,
            "layout": "IPY_MODEL_315b3aacdd6149c383179eb095ad673e",
            "placeholder": "​",
            "style": "IPY_MODEL_b0b87865207f404d97ee2436dd73b727",
            "value": "pytorch_model.bin: 100%"
          }
        },
        "a450311bd0c9410d8708bd3af12f1826": {
          "model_module": "@jupyter-widgets/controls",
          "model_name": "FloatProgressModel",
          "model_module_version": "1.5.0",
          "state": {
            "_dom_classes": [],
            "_model_module": "@jupyter-widgets/controls",
            "_model_module_version": "1.5.0",
            "_model_name": "FloatProgressModel",
            "_view_count": null,
            "_view_module": "@jupyter-widgets/controls",
            "_view_module_version": "1.5.0",
            "_view_name": "ProgressView",
            "bar_style": "success",
            "description": "",
            "description_tooltip": null,
            "layout": "IPY_MODEL_3ac11374d3e1496ab0e5ff1d5c249bac",
            "max": 1262175703,
            "min": 0,
            "orientation": "horizontal",
            "style": "IPY_MODEL_240bc976fba141d396dd96a8c39ea067",
            "value": 1262175703
          }
        },
        "4c1567821ee248b48d1eb2f22db3e9aa": {
          "model_module": "@jupyter-widgets/controls",
          "model_name": "HTMLModel",
          "model_module_version": "1.5.0",
          "state": {
            "_dom_classes": [],
            "_model_module": "@jupyter-widgets/controls",
            "_model_module_version": "1.5.0",
            "_model_name": "HTMLModel",
            "_view_count": null,
            "_view_module": "@jupyter-widgets/controls",
            "_view_module_version": "1.5.0",
            "_view_name": "HTMLView",
            "description": "",
            "description_tooltip": null,
            "layout": "IPY_MODEL_9d5f139cedd74ee2b1ae434c569de1d9",
            "placeholder": "​",
            "style": "IPY_MODEL_417191fc2c324d4c8dc13e697465b655",
            "value": " 1.26G/1.26G [00:10&lt;00:00, 157MB/s]"
          }
        },
        "da8ec6dea01a496f90d4af522c6e1b10": {
          "model_module": "@jupyter-widgets/base",
          "model_name": "LayoutModel",
          "model_module_version": "1.2.0",
          "state": {
            "_model_module": "@jupyter-widgets/base",
            "_model_module_version": "1.2.0",
            "_model_name": "LayoutModel",
            "_view_count": null,
            "_view_module": "@jupyter-widgets/base",
            "_view_module_version": "1.2.0",
            "_view_name": "LayoutView",
            "align_content": null,
            "align_items": null,
            "align_self": null,
            "border": null,
            "bottom": null,
            "display": null,
            "flex": null,
            "flex_flow": null,
            "grid_area": null,
            "grid_auto_columns": null,
            "grid_auto_flow": null,
            "grid_auto_rows": null,
            "grid_column": null,
            "grid_gap": null,
            "grid_row": null,
            "grid_template_areas": null,
            "grid_template_columns": null,
            "grid_template_rows": null,
            "height": null,
            "justify_content": null,
            "justify_items": null,
            "left": null,
            "margin": null,
            "max_height": null,
            "max_width": null,
            "min_height": null,
            "min_width": null,
            "object_fit": null,
            "object_position": null,
            "order": null,
            "overflow": null,
            "overflow_x": null,
            "overflow_y": null,
            "padding": null,
            "right": null,
            "top": null,
            "visibility": null,
            "width": null
          }
        },
        "b003ea8c04364ad1b0dafeea3f90c06b": {
          "model_module": "@jupyter-widgets/controls",
          "model_name": "HBoxModel",
          "model_module_version": "1.5.0",
          "state": {
            "_dom_classes": [],
            "_model_module": "@jupyter-widgets/controls",
            "_model_module_version": "1.5.0",
            "_model_name": "HBoxModel",
            "_view_count": null,
            "_view_module": "@jupyter-widgets/controls",
            "_view_module_version": "1.5.0",
            "_view_name": "HBoxView",
            "box_style": "",
            "children": [
              "IPY_MODEL_5358cf0e77d34da195b4544509f7cd55",
              "IPY_MODEL_a450311bd0c9410d8708bd3af12f1826",
              "IPY_MODEL_4c1567821ee248b48d1eb2f22db3e9aa"
            ],
            "layout": "IPY_MODEL_da8ec6dea01a496f90d4af522c6e1b10"
          }
        },
        "7c8173e1fb21412ca381ff21011aa00e": {
          "model_module": "@jupyter-widgets/base",
          "model_name": "LayoutModel",
          "model_module_version": "1.2.0",
          "state": {
            "_model_module": "@jupyter-widgets/base",
            "_model_module_version": "1.2.0",
            "_model_name": "LayoutModel",
            "_view_count": null,
            "_view_module": "@jupyter-widgets/base",
            "_view_module_version": "1.2.0",
            "_view_name": "LayoutView",
            "align_content": null,
            "align_items": null,
            "align_self": null,
            "border": null,
            "bottom": null,
            "display": null,
            "flex": null,
            "flex_flow": null,
            "grid_area": null,
            "grid_auto_columns": null,
            "grid_auto_flow": null,
            "grid_auto_rows": null,
            "grid_column": null,
            "grid_gap": null,
            "grid_row": null,
            "grid_template_areas": null,
            "grid_template_columns": null,
            "grid_template_rows": null,
            "height": null,
            "justify_content": null,
            "justify_items": null,
            "left": null,
            "margin": null,
            "max_height": null,
            "max_width": null,
            "min_height": null,
            "min_width": null,
            "object_fit": null,
            "object_position": null,
            "order": null,
            "overflow": null,
            "overflow_x": null,
            "overflow_y": null,
            "padding": null,
            "right": null,
            "top": null,
            "visibility": null,
            "width": null
          }
        },
        "112633638c07468a8a60a76b63df238e": {
          "model_module": "@jupyter-widgets/controls",
          "model_name": "ProgressStyleModel",
          "model_module_version": "1.5.0",
          "state": {
            "_model_module": "@jupyter-widgets/controls",
            "_model_module_version": "1.5.0",
            "_model_name": "ProgressStyleModel",
            "_view_count": null,
            "_view_module": "@jupyter-widgets/base",
            "_view_module_version": "1.2.0",
            "_view_name": "StyleView",
            "bar_color": null,
            "description_width": ""
          }
        },
        "720ac077eb6449948199878feff7eb63": {
          "model_module": "@jupyter-widgets/base",
          "model_name": "LayoutModel",
          "model_module_version": "1.2.0",
          "state": {
            "_model_module": "@jupyter-widgets/base",
            "_model_module_version": "1.2.0",
            "_model_name": "LayoutModel",
            "_view_count": null,
            "_view_module": "@jupyter-widgets/base",
            "_view_module_version": "1.2.0",
            "_view_name": "LayoutView",
            "align_content": null,
            "align_items": null,
            "align_self": null,
            "border": null,
            "bottom": null,
            "display": null,
            "flex": null,
            "flex_flow": null,
            "grid_area": null,
            "grid_auto_columns": null,
            "grid_auto_flow": null,
            "grid_auto_rows": null,
            "grid_column": null,
            "grid_gap": null,
            "grid_row": null,
            "grid_template_areas": null,
            "grid_template_columns": null,
            "grid_template_rows": null,
            "height": null,
            "justify_content": null,
            "justify_items": null,
            "left": null,
            "margin": null,
            "max_height": null,
            "max_width": null,
            "min_height": null,
            "min_width": null,
            "object_fit": null,
            "object_position": null,
            "order": null,
            "overflow": null,
            "overflow_x": null,
            "overflow_y": null,
            "padding": null,
            "right": null,
            "top": null,
            "visibility": null,
            "width": null
          }
        },
        "f18595ea184c49d49559a232784747b8": {
          "model_module": "@jupyter-widgets/controls",
          "model_name": "DescriptionStyleModel",
          "model_module_version": "1.5.0",
          "state": {
            "_model_module": "@jupyter-widgets/controls",
            "_model_module_version": "1.5.0",
            "_model_name": "DescriptionStyleModel",
            "_view_count": null,
            "_view_module": "@jupyter-widgets/base",
            "_view_module_version": "1.2.0",
            "_view_name": "StyleView",
            "description_width": ""
          }
        },
        "137b050ef7bd4b1b9cb90d22ee1187cd": {
          "model_module": "@jupyter-widgets/base",
          "model_name": "LayoutModel",
          "model_module_version": "1.2.0",
          "state": {
            "_model_module": "@jupyter-widgets/base",
            "_model_module_version": "1.2.0",
            "_model_name": "LayoutModel",
            "_view_count": null,
            "_view_module": "@jupyter-widgets/base",
            "_view_module_version": "1.2.0",
            "_view_name": "LayoutView",
            "align_content": null,
            "align_items": null,
            "align_self": null,
            "border": null,
            "bottom": null,
            "display": null,
            "flex": null,
            "flex_flow": null,
            "grid_area": null,
            "grid_auto_columns": null,
            "grid_auto_flow": null,
            "grid_auto_rows": null,
            "grid_column": null,
            "grid_gap": null,
            "grid_row": null,
            "grid_template_areas": null,
            "grid_template_columns": null,
            "grid_template_rows": null,
            "height": null,
            "justify_content": null,
            "justify_items": null,
            "left": null,
            "margin": null,
            "max_height": null,
            "max_width": null,
            "min_height": null,
            "min_width": null,
            "object_fit": null,
            "object_position": null,
            "order": null,
            "overflow": null,
            "overflow_x": null,
            "overflow_y": null,
            "padding": null,
            "right": null,
            "top": null,
            "visibility": null,
            "width": null
          }
        },
        "2c78c46f6d6c4a90895806317e4aa131": {
          "model_module": "@jupyter-widgets/controls",
          "model_name": "DescriptionStyleModel",
          "model_module_version": "1.5.0",
          "state": {
            "_model_module": "@jupyter-widgets/controls",
            "_model_module_version": "1.5.0",
            "_model_name": "DescriptionStyleModel",
            "_view_count": null,
            "_view_module": "@jupyter-widgets/base",
            "_view_module_version": "1.2.0",
            "_view_name": "StyleView",
            "description_width": ""
          }
        },
        "b583b3e4d31c489a86e4ffaa475a25e5": {
          "model_module": "@jupyter-widgets/controls",
          "model_name": "HTMLModel",
          "model_module_version": "1.5.0",
          "state": {
            "_dom_classes": [],
            "_model_module": "@jupyter-widgets/controls",
            "_model_module_version": "1.5.0",
            "_model_name": "HTMLModel",
            "_view_count": null,
            "_view_module": "@jupyter-widgets/controls",
            "_view_module_version": "1.5.0",
            "_view_name": "HTMLView",
            "description": "",
            "description_tooltip": null,
            "layout": "IPY_MODEL_720ac077eb6449948199878feff7eb63",
            "placeholder": "​",
            "style": "IPY_MODEL_f18595ea184c49d49559a232784747b8",
            "value": "preprocessor_config.json: 100%"
          }
        },
        "f4620b0831f649a89fe4a45e5a5b28ac": {
          "model_module": "@jupyter-widgets/controls",
          "model_name": "FloatProgressModel",
          "model_module_version": "1.5.0",
          "state": {
            "_dom_classes": [],
            "_model_module": "@jupyter-widgets/controls",
            "_model_module_version": "1.5.0",
            "_model_name": "FloatProgressModel",
            "_view_count": null,
            "_view_module": "@jupyter-widgets/controls",
            "_view_module_version": "1.5.0",
            "_view_name": "ProgressView",
            "bar_style": "success",
            "description": "",
            "description_tooltip": null,
            "layout": "IPY_MODEL_7c8173e1fb21412ca381ff21011aa00e",
            "max": 262,
            "min": 0,
            "orientation": "horizontal",
            "style": "IPY_MODEL_112633638c07468a8a60a76b63df238e",
            "value": 262
          }
        },
        "67a9a761a62649e4a20a1126e74db698": {
          "model_module": "@jupyter-widgets/controls",
          "model_name": "HTMLModel",
          "model_module_version": "1.5.0",
          "state": {
            "_dom_classes": [],
            "_model_module": "@jupyter-widgets/controls",
            "_model_module_version": "1.5.0",
            "_model_name": "HTMLModel",
            "_view_count": null,
            "_view_module": "@jupyter-widgets/controls",
            "_view_module_version": "1.5.0",
            "_view_name": "HTMLView",
            "description": "",
            "description_tooltip": null,
            "layout": "IPY_MODEL_137b050ef7bd4b1b9cb90d22ee1187cd",
            "placeholder": "​",
            "style": "IPY_MODEL_2c78c46f6d6c4a90895806317e4aa131",
            "value": " 262/262 [00:00&lt;00:00, 7.44kB/s]"
          }
        },
        "738da365e59d43988eab53ea7a7d15e8": {
          "model_module": "@jupyter-widgets/base",
          "model_name": "LayoutModel",
          "model_module_version": "1.2.0",
          "state": {
            "_model_module": "@jupyter-widgets/base",
            "_model_module_version": "1.2.0",
            "_model_name": "LayoutModel",
            "_view_count": null,
            "_view_module": "@jupyter-widgets/base",
            "_view_module_version": "1.2.0",
            "_view_name": "LayoutView",
            "align_content": null,
            "align_items": null,
            "align_self": null,
            "border": null,
            "bottom": null,
            "display": null,
            "flex": null,
            "flex_flow": null,
            "grid_area": null,
            "grid_auto_columns": null,
            "grid_auto_flow": null,
            "grid_auto_rows": null,
            "grid_column": null,
            "grid_gap": null,
            "grid_row": null,
            "grid_template_areas": null,
            "grid_template_columns": null,
            "grid_template_rows": null,
            "height": null,
            "justify_content": null,
            "justify_items": null,
            "left": null,
            "margin": null,
            "max_height": null,
            "max_width": null,
            "min_height": null,
            "min_width": null,
            "object_fit": null,
            "object_position": null,
            "order": null,
            "overflow": null,
            "overflow_x": null,
            "overflow_y": null,
            "padding": null,
            "right": null,
            "top": null,
            "visibility": null,
            "width": null
          }
        },
        "5c8caca151b440a99967d7e53273544e": {
          "model_module": "@jupyter-widgets/controls",
          "model_name": "HBoxModel",
          "model_module_version": "1.5.0",
          "state": {
            "_dom_classes": [],
            "_model_module": "@jupyter-widgets/controls",
            "_model_module_version": "1.5.0",
            "_model_name": "HBoxModel",
            "_view_count": null,
            "_view_module": "@jupyter-widgets/controls",
            "_view_module_version": "1.5.0",
            "_view_name": "HBoxView",
            "box_style": "",
            "children": [
              "IPY_MODEL_b583b3e4d31c489a86e4ffaa475a25e5",
              "IPY_MODEL_f4620b0831f649a89fe4a45e5a5b28ac",
              "IPY_MODEL_67a9a761a62649e4a20a1126e74db698"
            ],
            "layout": "IPY_MODEL_738da365e59d43988eab53ea7a7d15e8"
          }
        },
        "0b5cbcc93f0c4cb096c9930253e3f37c": {
          "model_module": "@jupyter-widgets/base",
          "model_name": "LayoutModel",
          "model_module_version": "1.2.0",
          "state": {
            "_model_module": "@jupyter-widgets/base",
            "_model_module_version": "1.2.0",
            "_model_name": "LayoutModel",
            "_view_count": null,
            "_view_module": "@jupyter-widgets/base",
            "_view_module_version": "1.2.0",
            "_view_name": "LayoutView",
            "align_content": null,
            "align_items": null,
            "align_self": null,
            "border": null,
            "bottom": null,
            "display": null,
            "flex": null,
            "flex_flow": null,
            "grid_area": null,
            "grid_auto_columns": null,
            "grid_auto_flow": null,
            "grid_auto_rows": null,
            "grid_column": null,
            "grid_gap": null,
            "grid_row": null,
            "grid_template_areas": null,
            "grid_template_columns": null,
            "grid_template_rows": null,
            "height": null,
            "justify_content": null,
            "justify_items": null,
            "left": null,
            "margin": null,
            "max_height": null,
            "max_width": null,
            "min_height": null,
            "min_width": null,
            "object_fit": null,
            "object_position": null,
            "order": null,
            "overflow": null,
            "overflow_x": null,
            "overflow_y": null,
            "padding": null,
            "right": null,
            "top": null,
            "visibility": null,
            "width": null
          }
        },
        "9b1a9875cdbe467b82f7dd5680473290": {
          "model_module": "@jupyter-widgets/controls",
          "model_name": "ProgressStyleModel",
          "model_module_version": "1.5.0",
          "state": {
            "_model_module": "@jupyter-widgets/controls",
            "_model_module_version": "1.5.0",
            "_model_name": "ProgressStyleModel",
            "_view_count": null,
            "_view_module": "@jupyter-widgets/base",
            "_view_module_version": "1.2.0",
            "_view_name": "StyleView",
            "bar_color": null,
            "description_width": ""
          }
        },
        "f455986f4bf14e3e83280c9096da0130": {
          "model_module": "@jupyter-widgets/base",
          "model_name": "LayoutModel",
          "model_module_version": "1.2.0",
          "state": {
            "_model_module": "@jupyter-widgets/base",
            "_model_module_version": "1.2.0",
            "_model_name": "LayoutModel",
            "_view_count": null,
            "_view_module": "@jupyter-widgets/base",
            "_view_module_version": "1.2.0",
            "_view_name": "LayoutView",
            "align_content": null,
            "align_items": null,
            "align_self": null,
            "border": null,
            "bottom": null,
            "display": null,
            "flex": null,
            "flex_flow": null,
            "grid_area": null,
            "grid_auto_columns": null,
            "grid_auto_flow": null,
            "grid_auto_rows": null,
            "grid_column": null,
            "grid_gap": null,
            "grid_row": null,
            "grid_template_areas": null,
            "grid_template_columns": null,
            "grid_template_rows": null,
            "height": null,
            "justify_content": null,
            "justify_items": null,
            "left": null,
            "margin": null,
            "max_height": null,
            "max_width": null,
            "min_height": null,
            "min_width": null,
            "object_fit": null,
            "object_position": null,
            "order": null,
            "overflow": null,
            "overflow_x": null,
            "overflow_y": null,
            "padding": null,
            "right": null,
            "top": null,
            "visibility": null,
            "width": null
          }
        },
        "5b1b24bceaa845b99906b63cdb5397f9": {
          "model_module": "@jupyter-widgets/controls",
          "model_name": "DescriptionStyleModel",
          "model_module_version": "1.5.0",
          "state": {
            "_model_module": "@jupyter-widgets/controls",
            "_model_module_version": "1.5.0",
            "_model_name": "DescriptionStyleModel",
            "_view_count": null,
            "_view_module": "@jupyter-widgets/base",
            "_view_module_version": "1.2.0",
            "_view_name": "StyleView",
            "description_width": ""
          }
        },
        "74996c2667794bd38c118686fb4e7243": {
          "model_module": "@jupyter-widgets/base",
          "model_name": "LayoutModel",
          "model_module_version": "1.2.0",
          "state": {
            "_model_module": "@jupyter-widgets/base",
            "_model_module_version": "1.2.0",
            "_model_name": "LayoutModel",
            "_view_count": null,
            "_view_module": "@jupyter-widgets/base",
            "_view_module_version": "1.2.0",
            "_view_name": "LayoutView",
            "align_content": null,
            "align_items": null,
            "align_self": null,
            "border": null,
            "bottom": null,
            "display": null,
            "flex": null,
            "flex_flow": null,
            "grid_area": null,
            "grid_auto_columns": null,
            "grid_auto_flow": null,
            "grid_auto_rows": null,
            "grid_column": null,
            "grid_gap": null,
            "grid_row": null,
            "grid_template_areas": null,
            "grid_template_columns": null,
            "grid_template_rows": null,
            "height": null,
            "justify_content": null,
            "justify_items": null,
            "left": null,
            "margin": null,
            "max_height": null,
            "max_width": null,
            "min_height": null,
            "min_width": null,
            "object_fit": null,
            "object_position": null,
            "order": null,
            "overflow": null,
            "overflow_x": null,
            "overflow_y": null,
            "padding": null,
            "right": null,
            "top": null,
            "visibility": null,
            "width": null
          }
        },
        "d883a291249a4d8090123fd569dcb657": {
          "model_module": "@jupyter-widgets/controls",
          "model_name": "DescriptionStyleModel",
          "model_module_version": "1.5.0",
          "state": {
            "_model_module": "@jupyter-widgets/controls",
            "_model_module_version": "1.5.0",
            "_model_name": "DescriptionStyleModel",
            "_view_count": null,
            "_view_module": "@jupyter-widgets/base",
            "_view_module_version": "1.2.0",
            "_view_name": "StyleView",
            "description_width": ""
          }
        },
        "a3859d97be8e4446a6de0c8cff1ab2f0": {
          "model_module": "@jupyter-widgets/controls",
          "model_name": "HTMLModel",
          "model_module_version": "1.5.0",
          "state": {
            "_dom_classes": [],
            "_model_module": "@jupyter-widgets/controls",
            "_model_module_version": "1.5.0",
            "_model_name": "HTMLModel",
            "_view_count": null,
            "_view_module": "@jupyter-widgets/controls",
            "_view_module_version": "1.5.0",
            "_view_name": "HTMLView",
            "description": "",
            "description_tooltip": null,
            "layout": "IPY_MODEL_f455986f4bf14e3e83280c9096da0130",
            "placeholder": "​",
            "style": "IPY_MODEL_5b1b24bceaa845b99906b63cdb5397f9",
            "value": "vocab.json: 100%"
          }
        },
        "5ce4cb7f969a43009ad92e76a29d0c3b": {
          "model_module": "@jupyter-widgets/controls",
          "model_name": "FloatProgressModel",
          "model_module_version": "1.5.0",
          "state": {
            "_dom_classes": [],
            "_model_module": "@jupyter-widgets/controls",
            "_model_module_version": "1.5.0",
            "_model_name": "FloatProgressModel",
            "_view_count": null,
            "_view_module": "@jupyter-widgets/controls",
            "_view_module_version": "1.5.0",
            "_view_name": "ProgressView",
            "bar_style": "success",
            "description": "",
            "description_tooltip": null,
            "layout": "IPY_MODEL_0b5cbcc93f0c4cb096c9930253e3f37c",
            "max": 560,
            "min": 0,
            "orientation": "horizontal",
            "style": "IPY_MODEL_9b1a9875cdbe467b82f7dd5680473290",
            "value": 560
          }
        },
        "afd9cce493ee49b3a1468d3670048cdd": {
          "model_module": "@jupyter-widgets/controls",
          "model_name": "HTMLModel",
          "model_module_version": "1.5.0",
          "state": {
            "_dom_classes": [],
            "_model_module": "@jupyter-widgets/controls",
            "_model_module_version": "1.5.0",
            "_model_name": "HTMLModel",
            "_view_count": null,
            "_view_module": "@jupyter-widgets/controls",
            "_view_module_version": "1.5.0",
            "_view_name": "HTMLView",
            "description": "",
            "description_tooltip": null,
            "layout": "IPY_MODEL_74996c2667794bd38c118686fb4e7243",
            "placeholder": "​",
            "style": "IPY_MODEL_d883a291249a4d8090123fd569dcb657",
            "value": " 560/560 [00:00&lt;00:00, 13.3kB/s]"
          }
        },
        "0e8df0c7fafd474eb7fd28c867cb8ca9": {
          "model_module": "@jupyter-widgets/base",
          "model_name": "LayoutModel",
          "model_module_version": "1.2.0",
          "state": {
            "_model_module": "@jupyter-widgets/base",
            "_model_module_version": "1.2.0",
            "_model_name": "LayoutModel",
            "_view_count": null,
            "_view_module": "@jupyter-widgets/base",
            "_view_module_version": "1.2.0",
            "_view_name": "LayoutView",
            "align_content": null,
            "align_items": null,
            "align_self": null,
            "border": null,
            "bottom": null,
            "display": null,
            "flex": null,
            "flex_flow": null,
            "grid_area": null,
            "grid_auto_columns": null,
            "grid_auto_flow": null,
            "grid_auto_rows": null,
            "grid_column": null,
            "grid_gap": null,
            "grid_row": null,
            "grid_template_areas": null,
            "grid_template_columns": null,
            "grid_template_rows": null,
            "height": null,
            "justify_content": null,
            "justify_items": null,
            "left": null,
            "margin": null,
            "max_height": null,
            "max_width": null,
            "min_height": null,
            "min_width": null,
            "object_fit": null,
            "object_position": null,
            "order": null,
            "overflow": null,
            "overflow_x": null,
            "overflow_y": null,
            "padding": null,
            "right": null,
            "top": null,
            "visibility": null,
            "width": null
          }
        },
        "a5a0feecbc524b9a8c0f58f6b888f2a6": {
          "model_module": "@jupyter-widgets/controls",
          "model_name": "HBoxModel",
          "model_module_version": "1.5.0",
          "state": {
            "_dom_classes": [],
            "_model_module": "@jupyter-widgets/controls",
            "_model_module_version": "1.5.0",
            "_model_name": "HBoxModel",
            "_view_count": null,
            "_view_module": "@jupyter-widgets/controls",
            "_view_module_version": "1.5.0",
            "_view_name": "HBoxView",
            "box_style": "",
            "children": [
              "IPY_MODEL_a3859d97be8e4446a6de0c8cff1ab2f0",
              "IPY_MODEL_5ce4cb7f969a43009ad92e76a29d0c3b",
              "IPY_MODEL_afd9cce493ee49b3a1468d3670048cdd"
            ],
            "layout": "IPY_MODEL_0e8df0c7fafd474eb7fd28c867cb8ca9"
          }
        },
        "0dd129a334604ca1a4ee04aecc7c8cbd": {
          "model_module": "@jupyter-widgets/base",
          "model_name": "LayoutModel",
          "model_module_version": "1.2.0",
          "state": {
            "_model_module": "@jupyter-widgets/base",
            "_model_module_version": "1.2.0",
            "_model_name": "LayoutModel",
            "_view_count": null,
            "_view_module": "@jupyter-widgets/base",
            "_view_module_version": "1.2.0",
            "_view_name": "LayoutView",
            "align_content": null,
            "align_items": null,
            "align_self": null,
            "border": null,
            "bottom": null,
            "display": null,
            "flex": null,
            "flex_flow": null,
            "grid_area": null,
            "grid_auto_columns": null,
            "grid_auto_flow": null,
            "grid_auto_rows": null,
            "grid_column": null,
            "grid_gap": null,
            "grid_row": null,
            "grid_template_areas": null,
            "grid_template_columns": null,
            "grid_template_rows": null,
            "height": null,
            "justify_content": null,
            "justify_items": null,
            "left": null,
            "margin": null,
            "max_height": null,
            "max_width": null,
            "min_height": null,
            "min_width": null,
            "object_fit": null,
            "object_position": null,
            "order": null,
            "overflow": null,
            "overflow_x": null,
            "overflow_y": null,
            "padding": null,
            "right": null,
            "top": null,
            "visibility": null,
            "width": null
          }
        },
        "80e551613e9b44e5b3bb5e1b5940ba6b": {
          "model_module": "@jupyter-widgets/controls",
          "model_name": "ProgressStyleModel",
          "model_module_version": "1.5.0",
          "state": {
            "_model_module": "@jupyter-widgets/controls",
            "_model_module_version": "1.5.0",
            "_model_name": "ProgressStyleModel",
            "_view_count": null,
            "_view_module": "@jupyter-widgets/base",
            "_view_module_version": "1.2.0",
            "_view_name": "StyleView",
            "bar_color": null,
            "description_width": ""
          }
        },
        "0e14d1a3ca8844fc97a0ca5a0dc9618e": {
          "model_module": "@jupyter-widgets/base",
          "model_name": "LayoutModel",
          "model_module_version": "1.2.0",
          "state": {
            "_model_module": "@jupyter-widgets/base",
            "_model_module_version": "1.2.0",
            "_model_name": "LayoutModel",
            "_view_count": null,
            "_view_module": "@jupyter-widgets/base",
            "_view_module_version": "1.2.0",
            "_view_name": "LayoutView",
            "align_content": null,
            "align_items": null,
            "align_self": null,
            "border": null,
            "bottom": null,
            "display": null,
            "flex": null,
            "flex_flow": null,
            "grid_area": null,
            "grid_auto_columns": null,
            "grid_auto_flow": null,
            "grid_auto_rows": null,
            "grid_column": null,
            "grid_gap": null,
            "grid_row": null,
            "grid_template_areas": null,
            "grid_template_columns": null,
            "grid_template_rows": null,
            "height": null,
            "justify_content": null,
            "justify_items": null,
            "left": null,
            "margin": null,
            "max_height": null,
            "max_width": null,
            "min_height": null,
            "min_width": null,
            "object_fit": null,
            "object_position": null,
            "order": null,
            "overflow": null,
            "overflow_x": null,
            "overflow_y": null,
            "padding": null,
            "right": null,
            "top": null,
            "visibility": null,
            "width": null
          }
        },
        "124d6da1ca2b4c01a5a7dd938a99fe8d": {
          "model_module": "@jupyter-widgets/controls",
          "model_name": "DescriptionStyleModel",
          "model_module_version": "1.5.0",
          "state": {
            "_model_module": "@jupyter-widgets/controls",
            "_model_module_version": "1.5.0",
            "_model_name": "DescriptionStyleModel",
            "_view_count": null,
            "_view_module": "@jupyter-widgets/base",
            "_view_module_version": "1.2.0",
            "_view_name": "StyleView",
            "description_width": ""
          }
        },
        "293246885cd340ca916a57eb48ef749c": {
          "model_module": "@jupyter-widgets/base",
          "model_name": "LayoutModel",
          "model_module_version": "1.2.0",
          "state": {
            "_model_module": "@jupyter-widgets/base",
            "_model_module_version": "1.2.0",
            "_model_name": "LayoutModel",
            "_view_count": null,
            "_view_module": "@jupyter-widgets/base",
            "_view_module_version": "1.2.0",
            "_view_name": "LayoutView",
            "align_content": null,
            "align_items": null,
            "align_self": null,
            "border": null,
            "bottom": null,
            "display": null,
            "flex": null,
            "flex_flow": null,
            "grid_area": null,
            "grid_auto_columns": null,
            "grid_auto_flow": null,
            "grid_auto_rows": null,
            "grid_column": null,
            "grid_gap": null,
            "grid_row": null,
            "grid_template_areas": null,
            "grid_template_columns": null,
            "grid_template_rows": null,
            "height": null,
            "justify_content": null,
            "justify_items": null,
            "left": null,
            "margin": null,
            "max_height": null,
            "max_width": null,
            "min_height": null,
            "min_width": null,
            "object_fit": null,
            "object_position": null,
            "order": null,
            "overflow": null,
            "overflow_x": null,
            "overflow_y": null,
            "padding": null,
            "right": null,
            "top": null,
            "visibility": null,
            "width": null
          }
        },
        "585925bd48e54632868207c4cfc3bb78": {
          "model_module": "@jupyter-widgets/controls",
          "model_name": "DescriptionStyleModel",
          "model_module_version": "1.5.0",
          "state": {
            "_model_module": "@jupyter-widgets/controls",
            "_model_module_version": "1.5.0",
            "_model_name": "DescriptionStyleModel",
            "_view_count": null,
            "_view_module": "@jupyter-widgets/base",
            "_view_module_version": "1.2.0",
            "_view_name": "StyleView",
            "description_width": ""
          }
        },
        "1aa41d374ad14c53b5b7b068a773ad48": {
          "model_module": "@jupyter-widgets/controls",
          "model_name": "HTMLModel",
          "model_module_version": "1.5.0",
          "state": {
            "_dom_classes": [],
            "_model_module": "@jupyter-widgets/controls",
            "_model_module_version": "1.5.0",
            "_model_name": "HTMLModel",
            "_view_count": null,
            "_view_module": "@jupyter-widgets/controls",
            "_view_module_version": "1.5.0",
            "_view_name": "HTMLView",
            "description": "",
            "description_tooltip": null,
            "layout": "IPY_MODEL_0e14d1a3ca8844fc97a0ca5a0dc9618e",
            "placeholder": "​",
            "style": "IPY_MODEL_124d6da1ca2b4c01a5a7dd938a99fe8d",
            "value": "special_tokens_map.json: 100%"
          }
        },
        "7a9d0ade22104ae3b9c8f35af6cf2779": {
          "model_module": "@jupyter-widgets/controls",
          "model_name": "FloatProgressModel",
          "model_module_version": "1.5.0",
          "state": {
            "_dom_classes": [],
            "_model_module": "@jupyter-widgets/controls",
            "_model_module_version": "1.5.0",
            "_model_name": "FloatProgressModel",
            "_view_count": null,
            "_view_module": "@jupyter-widgets/controls",
            "_view_module_version": "1.5.0",
            "_view_name": "ProgressView",
            "bar_style": "success",
            "description": "",
            "description_tooltip": null,
            "layout": "IPY_MODEL_0dd129a334604ca1a4ee04aecc7c8cbd",
            "max": 85,
            "min": 0,
            "orientation": "horizontal",
            "style": "IPY_MODEL_80e551613e9b44e5b3bb5e1b5940ba6b",
            "value": 85
          }
        },
        "e00e7ad9386a4fd889720bdd6aa72444": {
          "model_module": "@jupyter-widgets/controls",
          "model_name": "HTMLModel",
          "model_module_version": "1.5.0",
          "state": {
            "_dom_classes": [],
            "_model_module": "@jupyter-widgets/controls",
            "_model_module_version": "1.5.0",
            "_model_name": "HTMLModel",
            "_view_count": null,
            "_view_module": "@jupyter-widgets/controls",
            "_view_module_version": "1.5.0",
            "_view_name": "HTMLView",
            "description": "",
            "description_tooltip": null,
            "layout": "IPY_MODEL_293246885cd340ca916a57eb48ef749c",
            "placeholder": "​",
            "style": "IPY_MODEL_585925bd48e54632868207c4cfc3bb78",
            "value": " 85.0/85.0 [00:00&lt;00:00, 4.40kB/s]"
          }
        },
        "ad024aee18f3403698f6b3273aae74c3": {
          "model_module": "@jupyter-widgets/base",
          "model_name": "LayoutModel",
          "model_module_version": "1.2.0",
          "state": {
            "_model_module": "@jupyter-widgets/base",
            "_model_module_version": "1.2.0",
            "_model_name": "LayoutModel",
            "_view_count": null,
            "_view_module": "@jupyter-widgets/base",
            "_view_module_version": "1.2.0",
            "_view_name": "LayoutView",
            "align_content": null,
            "align_items": null,
            "align_self": null,
            "border": null,
            "bottom": null,
            "display": null,
            "flex": null,
            "flex_flow": null,
            "grid_area": null,
            "grid_auto_columns": null,
            "grid_auto_flow": null,
            "grid_auto_rows": null,
            "grid_column": null,
            "grid_gap": null,
            "grid_row": null,
            "grid_template_areas": null,
            "grid_template_columns": null,
            "grid_template_rows": null,
            "height": null,
            "justify_content": null,
            "justify_items": null,
            "left": null,
            "margin": null,
            "max_height": null,
            "max_width": null,
            "min_height": null,
            "min_width": null,
            "object_fit": null,
            "object_position": null,
            "order": null,
            "overflow": null,
            "overflow_x": null,
            "overflow_y": null,
            "padding": null,
            "right": null,
            "top": null,
            "visibility": null,
            "width": null
          }
        },
        "4337cc6664d642c8be029c9f9f499371": {
          "model_module": "@jupyter-widgets/controls",
          "model_name": "HBoxModel",
          "model_module_version": "1.5.0",
          "state": {
            "_dom_classes": [],
            "_model_module": "@jupyter-widgets/controls",
            "_model_module_version": "1.5.0",
            "_model_name": "HBoxModel",
            "_view_count": null,
            "_view_module": "@jupyter-widgets/controls",
            "_view_module_version": "1.5.0",
            "_view_name": "HBoxView",
            "box_style": "",
            "children": [
              "IPY_MODEL_1aa41d374ad14c53b5b7b068a773ad48",
              "IPY_MODEL_7a9d0ade22104ae3b9c8f35af6cf2779",
              "IPY_MODEL_e00e7ad9386a4fd889720bdd6aa72444"
            ],
            "layout": "IPY_MODEL_ad024aee18f3403698f6b3273aae74c3"
          }
        }
      }
    }
  },
  "cells": [
    {
      "cell_type": "markdown",
      "source": [
        "# Mise en Place du modele ASR"
      ],
      "metadata": {
        "id": "5q5bnZkH-N2S"
      }
    },
    {
      "cell_type": "code",
      "execution_count": 1,
      "metadata": {
        "colab": {
          "base_uri": "https://localhost:8080/"
        },
        "id": "zlW360ccn1qb",
        "outputId": "22c4db92-232b-49ca-edc9-62524ffe34b6"
      },
      "outputs": [
        {
          "output_type": "stream",
          "name": "stdout",
          "text": [
            "Collecting huggingsound\n",
            "  Downloading huggingsound-0.1.6-py3-none-any.whl.metadata (7.1 kB)\n",
            "Collecting datasets<3.0.0,>=2.6.1 (from huggingsound)\n",
            "  Downloading datasets-2.21.0-py3-none-any.whl.metadata (21 kB)\n",
            "Collecting jiwer<3.0.0,>=2.5.1 (from huggingsound)\n",
            "  Downloading jiwer-2.6.0-py3-none-any.whl.metadata (14 kB)\n",
            "Collecting librosa<0.10.0,>=0.9.2 (from huggingsound)\n",
            "  Downloading librosa-0.9.2-py3-none-any.whl.metadata (8.2 kB)\n",
            "Collecting torch!=1.12.0,<1.13.0,>=1.7 (from huggingsound)\n",
            "  Downloading torch-1.12.1-cp310-cp310-manylinux1_x86_64.whl.metadata (22 kB)\n",
            "Requirement already satisfied: transformers<5.0.0,>=4.23.1 in /usr/local/lib/python3.10/dist-packages (from huggingsound) (4.42.4)\n",
            "Requirement already satisfied: filelock in /usr/local/lib/python3.10/dist-packages (from datasets<3.0.0,>=2.6.1->huggingsound) (3.15.4)\n",
            "Requirement already satisfied: numpy>=1.17 in /usr/local/lib/python3.10/dist-packages (from datasets<3.0.0,>=2.6.1->huggingsound) (1.26.4)\n",
            "Collecting pyarrow>=15.0.0 (from datasets<3.0.0,>=2.6.1->huggingsound)\n",
            "  Downloading pyarrow-17.0.0-cp310-cp310-manylinux_2_28_x86_64.whl.metadata (3.3 kB)\n",
            "Collecting dill<0.3.9,>=0.3.0 (from datasets<3.0.0,>=2.6.1->huggingsound)\n",
            "  Downloading dill-0.3.8-py3-none-any.whl.metadata (10 kB)\n",
            "Requirement already satisfied: pandas in /usr/local/lib/python3.10/dist-packages (from datasets<3.0.0,>=2.6.1->huggingsound) (2.1.4)\n",
            "Requirement already satisfied: requests>=2.32.2 in /usr/local/lib/python3.10/dist-packages (from datasets<3.0.0,>=2.6.1->huggingsound) (2.32.3)\n",
            "Requirement already satisfied: tqdm>=4.66.3 in /usr/local/lib/python3.10/dist-packages (from datasets<3.0.0,>=2.6.1->huggingsound) (4.66.5)\n",
            "Collecting xxhash (from datasets<3.0.0,>=2.6.1->huggingsound)\n",
            "  Downloading xxhash-3.5.0-cp310-cp310-manylinux_2_17_x86_64.manylinux2014_x86_64.whl.metadata (12 kB)\n",
            "Collecting multiprocess (from datasets<3.0.0,>=2.6.1->huggingsound)\n",
            "  Downloading multiprocess-0.70.16-py310-none-any.whl.metadata (7.2 kB)\n",
            "Requirement already satisfied: fsspec<=2024.6.1,>=2023.1.0 in /usr/local/lib/python3.10/dist-packages (from fsspec[http]<=2024.6.1,>=2023.1.0->datasets<3.0.0,>=2.6.1->huggingsound) (2024.6.1)\n",
            "Requirement already satisfied: aiohttp in /usr/local/lib/python3.10/dist-packages (from datasets<3.0.0,>=2.6.1->huggingsound) (3.10.5)\n",
            "Requirement already satisfied: huggingface-hub>=0.21.2 in /usr/local/lib/python3.10/dist-packages (from datasets<3.0.0,>=2.6.1->huggingsound) (0.23.5)\n",
            "Requirement already satisfied: packaging in /usr/local/lib/python3.10/dist-packages (from datasets<3.0.0,>=2.6.1->huggingsound) (24.1)\n",
            "Requirement already satisfied: pyyaml>=5.1 in /usr/local/lib/python3.10/dist-packages (from datasets<3.0.0,>=2.6.1->huggingsound) (6.0.2)\n",
            "Requirement already satisfied: click<9.0.0,>=8.1.3 in /usr/local/lib/python3.10/dist-packages (from jiwer<3.0.0,>=2.5.1->huggingsound) (8.1.7)\n",
            "Collecting rapidfuzz==2.13.7 (from jiwer<3.0.0,>=2.5.1->huggingsound)\n",
            "  Downloading rapidfuzz-2.13.7-cp310-cp310-manylinux_2_17_x86_64.manylinux2014_x86_64.whl.metadata (9.0 kB)\n",
            "Requirement already satisfied: audioread>=2.1.9 in /usr/local/lib/python3.10/dist-packages (from librosa<0.10.0,>=0.9.2->huggingsound) (3.0.1)\n",
            "Requirement already satisfied: scipy>=1.2.0 in /usr/local/lib/python3.10/dist-packages (from librosa<0.10.0,>=0.9.2->huggingsound) (1.13.1)\n",
            "Requirement already satisfied: scikit-learn>=0.19.1 in /usr/local/lib/python3.10/dist-packages (from librosa<0.10.0,>=0.9.2->huggingsound) (1.3.2)\n",
            "Requirement already satisfied: joblib>=0.14 in /usr/local/lib/python3.10/dist-packages (from librosa<0.10.0,>=0.9.2->huggingsound) (1.4.2)\n",
            "Requirement already satisfied: decorator>=4.0.10 in /usr/local/lib/python3.10/dist-packages (from librosa<0.10.0,>=0.9.2->huggingsound) (4.4.2)\n",
            "Collecting resampy>=0.2.2 (from librosa<0.10.0,>=0.9.2->huggingsound)\n",
            "  Downloading resampy-0.4.3-py3-none-any.whl.metadata (3.0 kB)\n",
            "Requirement already satisfied: numba>=0.45.1 in /usr/local/lib/python3.10/dist-packages (from librosa<0.10.0,>=0.9.2->huggingsound) (0.60.0)\n",
            "Requirement already satisfied: soundfile>=0.10.2 in /usr/local/lib/python3.10/dist-packages (from librosa<0.10.0,>=0.9.2->huggingsound) (0.12.1)\n",
            "Requirement already satisfied: pooch>=1.0 in /usr/local/lib/python3.10/dist-packages (from librosa<0.10.0,>=0.9.2->huggingsound) (1.8.2)\n",
            "Requirement already satisfied: typing-extensions in /usr/local/lib/python3.10/dist-packages (from torch!=1.12.0,<1.13.0,>=1.7->huggingsound) (4.12.2)\n",
            "Requirement already satisfied: regex!=2019.12.17 in /usr/local/lib/python3.10/dist-packages (from transformers<5.0.0,>=4.23.1->huggingsound) (2024.5.15)\n",
            "Requirement already satisfied: safetensors>=0.4.1 in /usr/local/lib/python3.10/dist-packages (from transformers<5.0.0,>=4.23.1->huggingsound) (0.4.4)\n",
            "Requirement already satisfied: tokenizers<0.20,>=0.19 in /usr/local/lib/python3.10/dist-packages (from transformers<5.0.0,>=4.23.1->huggingsound) (0.19.1)\n",
            "Requirement already satisfied: aiohappyeyeballs>=2.3.0 in /usr/local/lib/python3.10/dist-packages (from aiohttp->datasets<3.0.0,>=2.6.1->huggingsound) (2.4.0)\n",
            "Requirement already satisfied: aiosignal>=1.1.2 in /usr/local/lib/python3.10/dist-packages (from aiohttp->datasets<3.0.0,>=2.6.1->huggingsound) (1.3.1)\n",
            "Requirement already satisfied: attrs>=17.3.0 in /usr/local/lib/python3.10/dist-packages (from aiohttp->datasets<3.0.0,>=2.6.1->huggingsound) (24.2.0)\n",
            "Requirement already satisfied: frozenlist>=1.1.1 in /usr/local/lib/python3.10/dist-packages (from aiohttp->datasets<3.0.0,>=2.6.1->huggingsound) (1.4.1)\n",
            "Requirement already satisfied: multidict<7.0,>=4.5 in /usr/local/lib/python3.10/dist-packages (from aiohttp->datasets<3.0.0,>=2.6.1->huggingsound) (6.0.5)\n",
            "Requirement already satisfied: yarl<2.0,>=1.0 in /usr/local/lib/python3.10/dist-packages (from aiohttp->datasets<3.0.0,>=2.6.1->huggingsound) (1.9.4)\n",
            "Requirement already satisfied: async-timeout<5.0,>=4.0 in /usr/local/lib/python3.10/dist-packages (from aiohttp->datasets<3.0.0,>=2.6.1->huggingsound) (4.0.3)\n",
            "Requirement already satisfied: llvmlite<0.44,>=0.43.0dev0 in /usr/local/lib/python3.10/dist-packages (from numba>=0.45.1->librosa<0.10.0,>=0.9.2->huggingsound) (0.43.0)\n",
            "Requirement already satisfied: platformdirs>=2.5.0 in /usr/local/lib/python3.10/dist-packages (from pooch>=1.0->librosa<0.10.0,>=0.9.2->huggingsound) (4.2.2)\n",
            "Requirement already satisfied: charset-normalizer<4,>=2 in /usr/local/lib/python3.10/dist-packages (from requests>=2.32.2->datasets<3.0.0,>=2.6.1->huggingsound) (3.3.2)\n",
            "Requirement already satisfied: idna<4,>=2.5 in /usr/local/lib/python3.10/dist-packages (from requests>=2.32.2->datasets<3.0.0,>=2.6.1->huggingsound) (3.8)\n",
            "Requirement already satisfied: urllib3<3,>=1.21.1 in /usr/local/lib/python3.10/dist-packages (from requests>=2.32.2->datasets<3.0.0,>=2.6.1->huggingsound) (2.0.7)\n",
            "Requirement already satisfied: certifi>=2017.4.17 in /usr/local/lib/python3.10/dist-packages (from requests>=2.32.2->datasets<3.0.0,>=2.6.1->huggingsound) (2024.7.4)\n",
            "Requirement already satisfied: threadpoolctl>=2.0.0 in /usr/local/lib/python3.10/dist-packages (from scikit-learn>=0.19.1->librosa<0.10.0,>=0.9.2->huggingsound) (3.5.0)\n",
            "Requirement already satisfied: cffi>=1.0 in /usr/local/lib/python3.10/dist-packages (from soundfile>=0.10.2->librosa<0.10.0,>=0.9.2->huggingsound) (1.17.0)\n",
            "Requirement already satisfied: python-dateutil>=2.8.2 in /usr/local/lib/python3.10/dist-packages (from pandas->datasets<3.0.0,>=2.6.1->huggingsound) (2.8.2)\n",
            "Requirement already satisfied: pytz>=2020.1 in /usr/local/lib/python3.10/dist-packages (from pandas->datasets<3.0.0,>=2.6.1->huggingsound) (2024.1)\n",
            "Requirement already satisfied: tzdata>=2022.1 in /usr/local/lib/python3.10/dist-packages (from pandas->datasets<3.0.0,>=2.6.1->huggingsound) (2024.1)\n",
            "Requirement already satisfied: pycparser in /usr/local/lib/python3.10/dist-packages (from cffi>=1.0->soundfile>=0.10.2->librosa<0.10.0,>=0.9.2->huggingsound) (2.22)\n",
            "Requirement already satisfied: six>=1.5 in /usr/local/lib/python3.10/dist-packages (from python-dateutil>=2.8.2->pandas->datasets<3.0.0,>=2.6.1->huggingsound) (1.16.0)\n",
            "Downloading huggingsound-0.1.6-py3-none-any.whl (28 kB)\n",
            "Downloading datasets-2.21.0-py3-none-any.whl (527 kB)\n",
            "\u001b[2K   \u001b[90m━━━━━━━━━━━━━━━━━━━━━━━━━━━━━━━━━━━━━━━━\u001b[0m \u001b[32m527.3/527.3 kB\u001b[0m \u001b[31m16.5 MB/s\u001b[0m eta \u001b[36m0:00:00\u001b[0m\n",
            "\u001b[?25hDownloading jiwer-2.6.0-py3-none-any.whl (20 kB)\n",
            "Downloading rapidfuzz-2.13.7-cp310-cp310-manylinux_2_17_x86_64.manylinux2014_x86_64.whl (2.2 MB)\n",
            "\u001b[2K   \u001b[90m━━━━━━━━━━━━━━━━━━━━━━━━━━━━━━━━━━━━━━━━\u001b[0m \u001b[32m2.2/2.2 MB\u001b[0m \u001b[31m58.5 MB/s\u001b[0m eta \u001b[36m0:00:00\u001b[0m\n",
            "\u001b[?25hDownloading librosa-0.9.2-py3-none-any.whl (214 kB)\n",
            "\u001b[2K   \u001b[90m━━━━━━━━━━━━━━━━━━━━━━━━━━━━━━━━━━━━━━━━\u001b[0m \u001b[32m214.3/214.3 kB\u001b[0m \u001b[31m17.3 MB/s\u001b[0m eta \u001b[36m0:00:00\u001b[0m\n",
            "\u001b[?25hDownloading torch-1.12.1-cp310-cp310-manylinux1_x86_64.whl (776.3 MB)\n",
            "\u001b[2K   \u001b[90m━━━━━━━━━━━━━━━━━━━━━━━━━━━━━━━━━━━━━━━━\u001b[0m \u001b[32m776.3/776.3 MB\u001b[0m \u001b[31m2.1 MB/s\u001b[0m eta \u001b[36m0:00:00\u001b[0m\n",
            "\u001b[?25hDownloading dill-0.3.8-py3-none-any.whl (116 kB)\n",
            "\u001b[2K   \u001b[90m━━━━━━━━━━━━━━━━━━━━━━━━━━━━━━━━━━━━━━━━\u001b[0m \u001b[32m116.3/116.3 kB\u001b[0m \u001b[31m9.3 MB/s\u001b[0m eta \u001b[36m0:00:00\u001b[0m\n",
            "\u001b[?25hDownloading pyarrow-17.0.0-cp310-cp310-manylinux_2_28_x86_64.whl (39.9 MB)\n",
            "\u001b[2K   \u001b[90m━━━━━━━━━━━━━━━━━━━━━━━━━━━━━━━━━━━━━━━━\u001b[0m \u001b[32m39.9/39.9 MB\u001b[0m \u001b[31m15.0 MB/s\u001b[0m eta \u001b[36m0:00:00\u001b[0m\n",
            "\u001b[?25hDownloading resampy-0.4.3-py3-none-any.whl (3.1 MB)\n",
            "\u001b[2K   \u001b[90m━━━━━━━━━━━━━━━━━━━━━━━━━━━━━━━━━━━━━━━━\u001b[0m \u001b[32m3.1/3.1 MB\u001b[0m \u001b[31m46.3 MB/s\u001b[0m eta \u001b[36m0:00:00\u001b[0m\n",
            "\u001b[?25hDownloading multiprocess-0.70.16-py310-none-any.whl (134 kB)\n",
            "\u001b[2K   \u001b[90m━━━━━━━━━━━━━━━━━━━━━━━━━━━━━━━━━━━━━━━━\u001b[0m \u001b[32m134.8/134.8 kB\u001b[0m \u001b[31m9.1 MB/s\u001b[0m eta \u001b[36m0:00:00\u001b[0m\n",
            "\u001b[?25hDownloading xxhash-3.5.0-cp310-cp310-manylinux_2_17_x86_64.manylinux2014_x86_64.whl (194 kB)\n",
            "\u001b[2K   \u001b[90m━━━━━━━━━━━━━━━━━━━━━━━━━━━━━━━━━━━━━━━━\u001b[0m \u001b[32m194.1/194.1 kB\u001b[0m \u001b[31m15.8 MB/s\u001b[0m eta \u001b[36m0:00:00\u001b[0m\n",
            "\u001b[?25hInstalling collected packages: xxhash, torch, rapidfuzz, pyarrow, dill, resampy, multiprocess, jiwer, librosa, datasets, huggingsound\n",
            "  Attempting uninstall: torch\n",
            "    Found existing installation: torch 2.4.0+cu121\n",
            "    Uninstalling torch-2.4.0+cu121:\n",
            "      Successfully uninstalled torch-2.4.0+cu121\n",
            "  Attempting uninstall: pyarrow\n",
            "    Found existing installation: pyarrow 14.0.2\n",
            "    Uninstalling pyarrow-14.0.2:\n",
            "      Successfully uninstalled pyarrow-14.0.2\n",
            "  Attempting uninstall: librosa\n",
            "    Found existing installation: librosa 0.10.2.post1\n",
            "    Uninstalling librosa-0.10.2.post1:\n",
            "      Successfully uninstalled librosa-0.10.2.post1\n",
            "\u001b[31mERROR: pip's dependency resolver does not currently take into account all the packages that are installed. This behaviour is the source of the following dependency conflicts.\n",
            "cudf-cu12 24.4.1 requires pyarrow<15.0.0a0,>=14.0.1, but you have pyarrow 17.0.0 which is incompatible.\n",
            "ibis-framework 8.0.0 requires pyarrow<16,>=2, but you have pyarrow 17.0.0 which is incompatible.\n",
            "torchaudio 2.4.0+cu121 requires torch==2.4.0, but you have torch 1.12.1 which is incompatible.\n",
            "torchvision 0.19.0+cu121 requires torch==2.4.0, but you have torch 1.12.1 which is incompatible.\u001b[0m\u001b[31m\n",
            "\u001b[0mSuccessfully installed datasets-2.21.0 dill-0.3.8 huggingsound-0.1.6 jiwer-2.6.0 librosa-0.9.2 multiprocess-0.70.16 pyarrow-17.0.0 rapidfuzz-2.13.7 resampy-0.4.3 torch-1.12.1 xxhash-3.5.0\n"
          ]
        }
      ],
      "source": [
        "!pip install huggingsound"
      ]
    },
    {
      "cell_type": "code",
      "source": [
        "!pip install --upgrade torch torchvision"
      ],
      "metadata": {
        "colab": {
          "base_uri": "https://localhost:8080/"
        },
        "id": "-j1tl_AOo967",
        "outputId": "4657d8b6-7e97-4e3a-a344-a791e6647927"
      },
      "execution_count": 2,
      "outputs": [
        {
          "output_type": "stream",
          "name": "stdout",
          "text": [
            "Requirement already satisfied: torch in /usr/local/lib/python3.10/dist-packages (1.12.1)\n",
            "Collecting torch\n",
            "  Downloading torch-2.4.0-cp310-cp310-manylinux1_x86_64.whl.metadata (26 kB)\n",
            "Requirement already satisfied: torchvision in /usr/local/lib/python3.10/dist-packages (0.19.0+cu121)\n",
            "Requirement already satisfied: filelock in /usr/local/lib/python3.10/dist-packages (from torch) (3.15.4)\n",
            "Requirement already satisfied: typing-extensions>=4.8.0 in /usr/local/lib/python3.10/dist-packages (from torch) (4.12.2)\n",
            "Requirement already satisfied: sympy in /usr/local/lib/python3.10/dist-packages (from torch) (1.13.2)\n",
            "Requirement already satisfied: networkx in /usr/local/lib/python3.10/dist-packages (from torch) (3.3)\n",
            "Requirement already satisfied: jinja2 in /usr/local/lib/python3.10/dist-packages (from torch) (3.1.4)\n",
            "Requirement already satisfied: fsspec in /usr/local/lib/python3.10/dist-packages (from torch) (2024.6.1)\n",
            "Collecting nvidia-cuda-nvrtc-cu12==12.1.105 (from torch)\n",
            "  Downloading nvidia_cuda_nvrtc_cu12-12.1.105-py3-none-manylinux1_x86_64.whl.metadata (1.5 kB)\n",
            "Collecting nvidia-cuda-runtime-cu12==12.1.105 (from torch)\n",
            "  Downloading nvidia_cuda_runtime_cu12-12.1.105-py3-none-manylinux1_x86_64.whl.metadata (1.5 kB)\n",
            "Collecting nvidia-cuda-cupti-cu12==12.1.105 (from torch)\n",
            "  Downloading nvidia_cuda_cupti_cu12-12.1.105-py3-none-manylinux1_x86_64.whl.metadata (1.6 kB)\n",
            "Collecting nvidia-cudnn-cu12==9.1.0.70 (from torch)\n",
            "  Downloading nvidia_cudnn_cu12-9.1.0.70-py3-none-manylinux2014_x86_64.whl.metadata (1.6 kB)\n",
            "Collecting nvidia-cublas-cu12==12.1.3.1 (from torch)\n",
            "  Downloading nvidia_cublas_cu12-12.1.3.1-py3-none-manylinux1_x86_64.whl.metadata (1.5 kB)\n",
            "Collecting nvidia-cufft-cu12==11.0.2.54 (from torch)\n",
            "  Downloading nvidia_cufft_cu12-11.0.2.54-py3-none-manylinux1_x86_64.whl.metadata (1.5 kB)\n",
            "Collecting nvidia-curand-cu12==10.3.2.106 (from torch)\n",
            "  Downloading nvidia_curand_cu12-10.3.2.106-py3-none-manylinux1_x86_64.whl.metadata (1.5 kB)\n",
            "Collecting nvidia-cusolver-cu12==11.4.5.107 (from torch)\n",
            "  Downloading nvidia_cusolver_cu12-11.4.5.107-py3-none-manylinux1_x86_64.whl.metadata (1.6 kB)\n",
            "Collecting nvidia-cusparse-cu12==12.1.0.106 (from torch)\n",
            "  Downloading nvidia_cusparse_cu12-12.1.0.106-py3-none-manylinux1_x86_64.whl.metadata (1.6 kB)\n",
            "Collecting nvidia-nccl-cu12==2.20.5 (from torch)\n",
            "  Downloading nvidia_nccl_cu12-2.20.5-py3-none-manylinux2014_x86_64.whl.metadata (1.8 kB)\n",
            "Collecting nvidia-nvtx-cu12==12.1.105 (from torch)\n",
            "  Downloading nvidia_nvtx_cu12-12.1.105-py3-none-manylinux1_x86_64.whl.metadata (1.7 kB)\n",
            "Collecting triton==3.0.0 (from torch)\n",
            "  Downloading triton-3.0.0-1-cp310-cp310-manylinux2014_x86_64.manylinux_2_17_x86_64.whl.metadata (1.3 kB)\n",
            "Collecting nvidia-nvjitlink-cu12 (from nvidia-cusolver-cu12==11.4.5.107->torch)\n",
            "  Downloading nvidia_nvjitlink_cu12-12.6.68-py3-none-manylinux2014_x86_64.whl.metadata (1.5 kB)\n",
            "Requirement already satisfied: numpy in /usr/local/lib/python3.10/dist-packages (from torchvision) (1.26.4)\n",
            "Requirement already satisfied: pillow!=8.3.*,>=5.3.0 in /usr/local/lib/python3.10/dist-packages (from torchvision) (9.4.0)\n",
            "Requirement already satisfied: MarkupSafe>=2.0 in /usr/local/lib/python3.10/dist-packages (from jinja2->torch) (2.1.5)\n",
            "Requirement already satisfied: mpmath<1.4,>=1.1.0 in /usr/local/lib/python3.10/dist-packages (from sympy->torch) (1.3.0)\n",
            "Downloading torch-2.4.0-cp310-cp310-manylinux1_x86_64.whl (797.2 MB)\n",
            "\u001b[2K   \u001b[90m━━━━━━━━━━━━━━━━━━━━━━━━━━━━━━━━━━━━━━━━\u001b[0m \u001b[32m797.2/797.2 MB\u001b[0m \u001b[31m2.5 MB/s\u001b[0m eta \u001b[36m0:00:00\u001b[0m\n",
            "\u001b[?25hDownloading nvidia_cublas_cu12-12.1.3.1-py3-none-manylinux1_x86_64.whl (410.6 MB)\n",
            "\u001b[2K   \u001b[90m━━━━━━━━━━━━━━━━━━━━━━━━━━━━━━━━━━━━━━━━\u001b[0m \u001b[32m410.6/410.6 MB\u001b[0m \u001b[31m3.8 MB/s\u001b[0m eta \u001b[36m0:00:00\u001b[0m\n",
            "\u001b[?25hDownloading nvidia_cuda_cupti_cu12-12.1.105-py3-none-manylinux1_x86_64.whl (14.1 MB)\n",
            "\u001b[2K   \u001b[90m━━━━━━━━━━━━━━━━━━━━━━━━━━━━━━━━━━━━━━━━\u001b[0m \u001b[32m14.1/14.1 MB\u001b[0m \u001b[31m77.4 MB/s\u001b[0m eta \u001b[36m0:00:00\u001b[0m\n",
            "\u001b[?25hDownloading nvidia_cuda_nvrtc_cu12-12.1.105-py3-none-manylinux1_x86_64.whl (23.7 MB)\n",
            "\u001b[2K   \u001b[90m━━━━━━━━━━━━━━━━━━━━━━━━━━━━━━━━━━━━━━━━\u001b[0m \u001b[32m23.7/23.7 MB\u001b[0m \u001b[31m57.9 MB/s\u001b[0m eta \u001b[36m0:00:00\u001b[0m\n",
            "\u001b[?25hDownloading nvidia_cuda_runtime_cu12-12.1.105-py3-none-manylinux1_x86_64.whl (823 kB)\n",
            "\u001b[2K   \u001b[90m━━━━━━━━━━━━━━━━━━━━━━━━━━━━━━━━━━━━━━━━\u001b[0m \u001b[32m823.6/823.6 kB\u001b[0m \u001b[31m46.4 MB/s\u001b[0m eta \u001b[36m0:00:00\u001b[0m\n",
            "\u001b[?25hDownloading nvidia_cudnn_cu12-9.1.0.70-py3-none-manylinux2014_x86_64.whl (664.8 MB)\n",
            "\u001b[2K   \u001b[90m━━━━━━━━━━━━━━━━━━━━━━━━━━━━━━━━━━━━━━━━\u001b[0m \u001b[32m664.8/664.8 MB\u001b[0m \u001b[31m1.5 MB/s\u001b[0m eta \u001b[36m0:00:00\u001b[0m\n",
            "\u001b[?25hDownloading nvidia_cufft_cu12-11.0.2.54-py3-none-manylinux1_x86_64.whl (121.6 MB)\n",
            "\u001b[2K   \u001b[90m━━━━━━━━━━━━━━━━━━━━━━━━━━━━━━━━━━━━━━━━\u001b[0m \u001b[32m121.6/121.6 MB\u001b[0m \u001b[31m7.7 MB/s\u001b[0m eta \u001b[36m0:00:00\u001b[0m\n",
            "\u001b[?25hDownloading nvidia_curand_cu12-10.3.2.106-py3-none-manylinux1_x86_64.whl (56.5 MB)\n",
            "\u001b[2K   \u001b[90m━━━━━━━━━━━━━━━━━━━━━━━━━━━━━━━━━━━━━━━━\u001b[0m \u001b[32m56.5/56.5 MB\u001b[0m \u001b[31m14.8 MB/s\u001b[0m eta \u001b[36m0:00:00\u001b[0m\n",
            "\u001b[?25hDownloading nvidia_cusolver_cu12-11.4.5.107-py3-none-manylinux1_x86_64.whl (124.2 MB)\n",
            "\u001b[2K   \u001b[90m━━━━━━━━━━━━━━━━━━━━━━━━━━━━━━━━━━━━━━━━\u001b[0m \u001b[32m124.2/124.2 MB\u001b[0m \u001b[31m7.6 MB/s\u001b[0m eta \u001b[36m0:00:00\u001b[0m\n",
            "\u001b[?25hDownloading nvidia_cusparse_cu12-12.1.0.106-py3-none-manylinux1_x86_64.whl (196.0 MB)\n",
            "\u001b[2K   \u001b[90m━━━━━━━━━━━━━━━━━━━━━━━━━━━━━━━━━━━━━━━━\u001b[0m \u001b[32m196.0/196.0 MB\u001b[0m \u001b[31m6.1 MB/s\u001b[0m eta \u001b[36m0:00:00\u001b[0m\n",
            "\u001b[?25hDownloading nvidia_nccl_cu12-2.20.5-py3-none-manylinux2014_x86_64.whl (176.2 MB)\n",
            "\u001b[2K   \u001b[90m━━━━━━━━━━━━━━━━━━━━━━━━━━━━━━━━━━━━━━━━\u001b[0m \u001b[32m176.2/176.2 MB\u001b[0m \u001b[31m6.6 MB/s\u001b[0m eta \u001b[36m0:00:00\u001b[0m\n",
            "\u001b[?25hDownloading nvidia_nvtx_cu12-12.1.105-py3-none-manylinux1_x86_64.whl (99 kB)\n",
            "\u001b[2K   \u001b[90m━━━━━━━━━━━━━━━━━━━━━━━━━━━━━━━━━━━━━━━━\u001b[0m \u001b[32m99.1/99.1 kB\u001b[0m \u001b[31m8.3 MB/s\u001b[0m eta \u001b[36m0:00:00\u001b[0m\n",
            "\u001b[?25hDownloading triton-3.0.0-1-cp310-cp310-manylinux2014_x86_64.manylinux_2_17_x86_64.whl (209.4 MB)\n",
            "\u001b[2K   \u001b[90m━━━━━━━━━━━━━━━━━━━━━━━━━━━━━━━━━━━━━━━━\u001b[0m \u001b[32m209.4/209.4 MB\u001b[0m \u001b[31m6.3 MB/s\u001b[0m eta \u001b[36m0:00:00\u001b[0m\n",
            "\u001b[?25hDownloading nvidia_nvjitlink_cu12-12.6.68-py3-none-manylinux2014_x86_64.whl (19.7 MB)\n",
            "\u001b[2K   \u001b[90m━━━━━━━━━━━━━━━━━━━━━━━━━━━━━━━━━━━━━━━━\u001b[0m \u001b[32m19.7/19.7 MB\u001b[0m \u001b[31m61.7 MB/s\u001b[0m eta \u001b[36m0:00:00\u001b[0m\n",
            "\u001b[?25hInstalling collected packages: triton, nvidia-nvtx-cu12, nvidia-nvjitlink-cu12, nvidia-nccl-cu12, nvidia-curand-cu12, nvidia-cufft-cu12, nvidia-cuda-runtime-cu12, nvidia-cuda-nvrtc-cu12, nvidia-cuda-cupti-cu12, nvidia-cublas-cu12, nvidia-cusparse-cu12, nvidia-cudnn-cu12, nvidia-cusolver-cu12, torch\n",
            "  Attempting uninstall: nvidia-nccl-cu12\n",
            "    Found existing installation: nvidia-nccl-cu12 2.22.3\n",
            "    Uninstalling nvidia-nccl-cu12-2.22.3:\n",
            "      Successfully uninstalled nvidia-nccl-cu12-2.22.3\n",
            "  Attempting uninstall: torch\n",
            "    Found existing installation: torch 1.12.1\n",
            "    Uninstalling torch-1.12.1:\n",
            "      Successfully uninstalled torch-1.12.1\n",
            "\u001b[31mERROR: pip's dependency resolver does not currently take into account all the packages that are installed. This behaviour is the source of the following dependency conflicts.\n",
            "huggingsound 0.1.6 requires torch!=1.12.0,<1.13.0,>=1.7, but you have torch 2.4.0 which is incompatible.\u001b[0m\u001b[31m\n",
            "\u001b[0mSuccessfully installed nvidia-cublas-cu12-12.1.3.1 nvidia-cuda-cupti-cu12-12.1.105 nvidia-cuda-nvrtc-cu12-12.1.105 nvidia-cuda-runtime-cu12-12.1.105 nvidia-cudnn-cu12-9.1.0.70 nvidia-cufft-cu12-11.0.2.54 nvidia-curand-cu12-10.3.2.106 nvidia-cusolver-cu12-11.4.5.107 nvidia-cusparse-cu12-12.1.0.106 nvidia-nccl-cu12-2.20.5 nvidia-nvjitlink-cu12-12.6.68 nvidia-nvtx-cu12-12.1.105 torch-2.4.0 triton-3.0.0\n"
          ]
        }
      ]
    },
    {
      "cell_type": "code",
      "source": [
        "!pip install ipython"
      ],
      "metadata": {
        "colab": {
          "base_uri": "https://localhost:8080/"
        },
        "id": "kpj77OaFqzNk",
        "outputId": "f95eba17-b80b-4aa6-98e4-3346531defa8"
      },
      "execution_count": 3,
      "outputs": [
        {
          "output_type": "stream",
          "name": "stdout",
          "text": [
            "Requirement already satisfied: ipython in /usr/local/lib/python3.10/dist-packages (7.34.0)\n",
            "Requirement already satisfied: setuptools>=18.5 in /usr/local/lib/python3.10/dist-packages (from ipython) (71.0.4)\n",
            "Collecting jedi>=0.16 (from ipython)\n",
            "  Using cached jedi-0.19.1-py2.py3-none-any.whl.metadata (22 kB)\n",
            "Requirement already satisfied: decorator in /usr/local/lib/python3.10/dist-packages (from ipython) (4.4.2)\n",
            "Requirement already satisfied: pickleshare in /usr/local/lib/python3.10/dist-packages (from ipython) (0.7.5)\n",
            "Requirement already satisfied: traitlets>=4.2 in /usr/local/lib/python3.10/dist-packages (from ipython) (5.7.1)\n",
            "Requirement already satisfied: prompt-toolkit!=3.0.0,!=3.0.1,<3.1.0,>=2.0.0 in /usr/local/lib/python3.10/dist-packages (from ipython) (3.0.47)\n",
            "Requirement already satisfied: pygments in /usr/local/lib/python3.10/dist-packages (from ipython) (2.16.1)\n",
            "Requirement already satisfied: backcall in /usr/local/lib/python3.10/dist-packages (from ipython) (0.2.0)\n",
            "Requirement already satisfied: matplotlib-inline in /usr/local/lib/python3.10/dist-packages (from ipython) (0.1.7)\n",
            "Requirement already satisfied: pexpect>4.3 in /usr/local/lib/python3.10/dist-packages (from ipython) (4.9.0)\n",
            "Requirement already satisfied: parso<0.9.0,>=0.8.3 in /usr/local/lib/python3.10/dist-packages (from jedi>=0.16->ipython) (0.8.4)\n",
            "Requirement already satisfied: ptyprocess>=0.5 in /usr/local/lib/python3.10/dist-packages (from pexpect>4.3->ipython) (0.7.0)\n",
            "Requirement already satisfied: wcwidth in /usr/local/lib/python3.10/dist-packages (from prompt-toolkit!=3.0.0,!=3.0.1,<3.1.0,>=2.0.0->ipython) (0.2.13)\n",
            "Using cached jedi-0.19.1-py2.py3-none-any.whl (1.6 MB)\n",
            "Installing collected packages: jedi\n",
            "Successfully installed jedi-0.19.1\n"
          ]
        }
      ]
    },
    {
      "cell_type": "code",
      "source": [
        "!pip install ipywebrtc"
      ],
      "metadata": {
        "colab": {
          "base_uri": "https://localhost:8080/"
        },
        "id": "6OZUPaiKq80N",
        "outputId": "9a78958c-adb1-4801-8094-c7ba3074da63"
      },
      "execution_count": 4,
      "outputs": [
        {
          "output_type": "stream",
          "name": "stdout",
          "text": [
            "Collecting ipywebrtc\n",
            "  Downloading ipywebrtc-0.6.0-py2.py3-none-any.whl.metadata (825 bytes)\n",
            "Downloading ipywebrtc-0.6.0-py2.py3-none-any.whl (260 kB)\n",
            "\u001b[?25l   \u001b[90m━━━━━━━━━━━━━━━━━━━━━━━━━━━━━━━━━━━━━━━━\u001b[0m \u001b[32m0.0/260.7 kB\u001b[0m \u001b[31m?\u001b[0m eta \u001b[36m-:--:--\u001b[0m\r\u001b[2K   \u001b[91m━━━━━━━━━━━━━━━━━━━━━━━━━━━━━━━━━━━━━━━\u001b[0m\u001b[90m╺\u001b[0m \u001b[32m256.0/260.7 kB\u001b[0m \u001b[31m7.8 MB/s\u001b[0m eta \u001b[36m0:00:01\u001b[0m\r\u001b[2K   \u001b[90m━━━━━━━━━━━━━━━━━━━━━━━━━━━━━━━━━━━━━━━━\u001b[0m \u001b[32m260.7/260.7 kB\u001b[0m \u001b[31m5.8 MB/s\u001b[0m eta \u001b[36m0:00:00\u001b[0m\n",
            "\u001b[?25hInstalling collected packages: ipywebrtc\n",
            "Successfully installed ipywebrtc-0.6.0\n"
          ]
        }
      ]
    },
    {
      "cell_type": "markdown",
      "source": [
        "### Mise en place d'une fonction pour enregistrer un audio directement"
      ],
      "metadata": {
        "id": "KhTWlpg6-WT7"
      }
    },
    {
      "cell_type": "markdown",
      "source": [],
      "metadata": {
        "id": "zjHyGNQpCfkK"
      }
    },
    {
      "cell_type": "code",
      "source": [
        "from ipywebrtc import AudioRecorder, CameraStream\n",
        "from google.colab import output\n",
        "\n",
        "def create_audio_recorder():\n",
        "    # Activer le gestionnaire de widgets pour afficher le widget dans Google Colab\n",
        "    output.enable_custom_widget_manager()\n",
        "\n",
        "    # Initialiser la caméra avec uniquement l'audio\n",
        "    camera = CameraStream(constraints={'audio': True, 'video': False})\n",
        "\n",
        "    # Créer un enregistreur audio à partir du flux de la caméra\n",
        "    recorder = AudioRecorder(stream=camera)\n",
        "\n",
        "    return recorder\n",
        "\n",
        "# Utiliser la fonction pour créer un enregistreur audio\n",
        "recorder = create_audio_recorder()\n"
      ],
      "metadata": {
        "id": "VXnrKL5XBVZc"
      },
      "execution_count": 5,
      "outputs": []
    },
    {
      "cell_type": "code",
      "source": [
        "recorder"
      ],
      "metadata": {
        "colab": {
          "base_uri": "https://localhost:8080/",
          "height": 107,
          "referenced_widgets": [
            "12adb41b027d4048ad3a1f5300bb07d1",
            "dd7943011e6c49ffbcd128f36baa4f4b",
            "b7a6644b573f4fffa055e9962d87910d",
            "442530355db742fe86a7ad016275312d",
            "a3cde2b77826417e89277b3e36f86e18",
            "c5ec594ef054408494a5532ed7843113"
          ]
        },
        "id": "SSxBtYJFBc1l",
        "outputId": "323e5695-e05d-40ea-da84-a82705f702de"
      },
      "execution_count": 12,
      "outputs": [
        {
          "output_type": "display_data",
          "data": {
            "text/plain": [
              "AudioRecorder(audio=Audio(value=b'', format='webm'), stream=CameraStream(constraints={'audio': True, 'video': …"
            ],
            "application/vnd.jupyter.widget-view+json": {
              "version_major": 2,
              "version_minor": 0,
              "model_id": "12adb41b027d4048ad3a1f5300bb07d1"
            }
          },
          "metadata": {
            "application/vnd.jupyter.widget-view+json": {
              "colab": {
                "custom_widget_manager": {
                  "url": "https://ssl.gstatic.com/colaboratory-static/widgets/colab-cdn-widget-manager/2b70e893a8ba7c0f/manager.min.js"
                }
              }
            }
          }
        }
      ]
    },
    {
      "cell_type": "code",
      "source": [
        "# Convertir l'audio en wav et l'enregistrer localement\n",
        "with open('recording.webm', 'wb') as f:\n",
        "    f.write(recorder.audio.value)\n",
        "!ffmpeg -i recording.webm -ac 1 -f wav file.wav -y -hide_banner -loglevel panic"
      ],
      "metadata": {
        "id": "HoXfOn2Bw3Xh"
      },
      "execution_count": 13,
      "outputs": []
    },
    {
      "cell_type": "code",
      "source": [
        "!pip install ipython"
      ],
      "metadata": {
        "colab": {
          "base_uri": "https://localhost:8080/"
        },
        "id": "FBq411dryv8v",
        "outputId": "25d6bbe6-bf3f-4601-950e-62fa29e1959b"
      },
      "execution_count": 14,
      "outputs": [
        {
          "output_type": "stream",
          "name": "stdout",
          "text": [
            "Requirement already satisfied: ipython in /usr/local/lib/python3.10/dist-packages (7.34.0)\n",
            "Requirement already satisfied: setuptools>=18.5 in /usr/local/lib/python3.10/dist-packages (from ipython) (71.0.4)\n",
            "Requirement already satisfied: jedi>=0.16 in /usr/local/lib/python3.10/dist-packages (from ipython) (0.19.1)\n",
            "Requirement already satisfied: decorator in /usr/local/lib/python3.10/dist-packages (from ipython) (4.4.2)\n",
            "Requirement already satisfied: pickleshare in /usr/local/lib/python3.10/dist-packages (from ipython) (0.7.5)\n",
            "Requirement already satisfied: traitlets>=4.2 in /usr/local/lib/python3.10/dist-packages (from ipython) (5.7.1)\n",
            "Requirement already satisfied: prompt-toolkit!=3.0.0,!=3.0.1,<3.1.0,>=2.0.0 in /usr/local/lib/python3.10/dist-packages (from ipython) (3.0.47)\n",
            "Requirement already satisfied: pygments in /usr/local/lib/python3.10/dist-packages (from ipython) (2.16.1)\n",
            "Requirement already satisfied: backcall in /usr/local/lib/python3.10/dist-packages (from ipython) (0.2.0)\n",
            "Requirement already satisfied: matplotlib-inline in /usr/local/lib/python3.10/dist-packages (from ipython) (0.1.7)\n",
            "Requirement already satisfied: pexpect>4.3 in /usr/local/lib/python3.10/dist-packages (from ipython) (4.9.0)\n",
            "Requirement already satisfied: parso<0.9.0,>=0.8.3 in /usr/local/lib/python3.10/dist-packages (from jedi>=0.16->ipython) (0.8.4)\n",
            "Requirement already satisfied: ptyprocess>=0.5 in /usr/local/lib/python3.10/dist-packages (from pexpect>4.3->ipython) (0.7.0)\n",
            "Requirement already satisfied: wcwidth in /usr/local/lib/python3.10/dist-packages (from prompt-toolkit!=3.0.0,!=3.0.1,<3.1.0,>=2.0.0->ipython) (0.2.13)\n"
          ]
        }
      ]
    },
    {
      "cell_type": "markdown",
      "source": [
        "###  verification que l'audio a ete bien enregistré"
      ],
      "metadata": {
        "id": "ezhJwlv_C4oU"
      }
    },
    {
      "cell_type": "code",
      "source": [
        "from IPython.display import Audio\n",
        "\n",
        "# Chemin vers le fichier audio enregistré\n",
        "audio_paths=\"/content/file.wav\"\n",
        "\n",
        "# Lecture de l'audio\n",
        "Audio(filename=audio_paths)"
      ],
      "metadata": {
        "colab": {
          "base_uri": "https://localhost:8080/",
          "height": 75
        },
        "id": "EJFFUaxFy3Ab",
        "outputId": "a8cd4ff7-0c02-43d5-f5f1-02967f290ee8"
      },
      "execution_count": 15,
      "outputs": [
        {
          "output_type": "execute_result",
          "data": {
            "text/plain": [
              "<IPython.lib.display.Audio object>"
            ],
            "text/html": [
              "\n",
              "                <audio  controls=\"controls\" >\n",
              "                    <source src=\"data:audio/x-wav;base64,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\" type=\"audio/x-wav\" />\n",
              "                    Your browser does not support the audio element.\n",
              "                </audio>\n",
              "              "
            ]
          },
          "metadata": {},
          "execution_count": 15
        }
      ]
    },
    {
      "cell_type": "code",
      "source": [],
      "metadata": {
        "id": "ju8Y5Wk_ghJZ"
      },
      "execution_count": null,
      "outputs": []
    },
    {
      "cell_type": "markdown",
      "source": [
        "## chargement du modele ASR wav2vec2-large-xlsr-53-french\"\n",
        "\n",
        "\n",
        "\n"
      ],
      "metadata": {
        "id": "fCVya_wuB8sv"
      }
    },
    {
      "cell_type": "code",
      "source": [
        "from huggingsound import SpeechRecognitionModel\n",
        "\n",
        "model = SpeechRecognitionModel(\"jonatasgrosman/wav2vec2-large-xlsr-53-french\")\n",
        "transcriptions = model.transcribe([audio_paths])"
      ],
      "metadata": {
        "colab": {
          "base_uri": "https://localhost:8080/",
          "height": 423,
          "referenced_widgets": [
            "265afd7b10424f099cd00912364363a4",
            "74ef741cf87f4227b73da3d4bea45e53",
            "dee7f4717af74a68b212872d883f612f",
            "2e07d7cf916f4a879c93f1fdccca6527",
            "427c34a8b6c747739e97262abb5fad4c",
            "776647b10b474cc4ba93470f4d5b885f",
            "d8c963ffe6564a77881dd429ce727c53",
            "e50ba3531ed74540b954d9723f7e2a45",
            "32751455105845eb95b9b354d281d180",
            "8c040febd4d744c7a2ce1136b5aa4d3c",
            "7a6fa1cdf61b4006ba7b98b96ae981e9",
            "3ac11374d3e1496ab0e5ff1d5c249bac",
            "240bc976fba141d396dd96a8c39ea067",
            "315b3aacdd6149c383179eb095ad673e",
            "b0b87865207f404d97ee2436dd73b727",
            "9d5f139cedd74ee2b1ae434c569de1d9",
            "417191fc2c324d4c8dc13e697465b655",
            "5358cf0e77d34da195b4544509f7cd55",
            "a450311bd0c9410d8708bd3af12f1826",
            "4c1567821ee248b48d1eb2f22db3e9aa",
            "da8ec6dea01a496f90d4af522c6e1b10",
            "b003ea8c04364ad1b0dafeea3f90c06b",
            "7c8173e1fb21412ca381ff21011aa00e",
            "112633638c07468a8a60a76b63df238e",
            "720ac077eb6449948199878feff7eb63",
            "f18595ea184c49d49559a232784747b8",
            "137b050ef7bd4b1b9cb90d22ee1187cd",
            "2c78c46f6d6c4a90895806317e4aa131",
            "b583b3e4d31c489a86e4ffaa475a25e5",
            "f4620b0831f649a89fe4a45e5a5b28ac",
            "67a9a761a62649e4a20a1126e74db698",
            "738da365e59d43988eab53ea7a7d15e8",
            "5c8caca151b440a99967d7e53273544e",
            "0b5cbcc93f0c4cb096c9930253e3f37c",
            "9b1a9875cdbe467b82f7dd5680473290",
            "f455986f4bf14e3e83280c9096da0130",
            "5b1b24bceaa845b99906b63cdb5397f9",
            "74996c2667794bd38c118686fb4e7243",
            "d883a291249a4d8090123fd569dcb657",
            "a3859d97be8e4446a6de0c8cff1ab2f0",
            "5ce4cb7f969a43009ad92e76a29d0c3b",
            "afd9cce493ee49b3a1468d3670048cdd",
            "0e8df0c7fafd474eb7fd28c867cb8ca9",
            "a5a0feecbc524b9a8c0f58f6b888f2a6",
            "0dd129a334604ca1a4ee04aecc7c8cbd",
            "80e551613e9b44e5b3bb5e1b5940ba6b",
            "0e14d1a3ca8844fc97a0ca5a0dc9618e",
            "124d6da1ca2b4c01a5a7dd938a99fe8d",
            "293246885cd340ca916a57eb48ef749c",
            "585925bd48e54632868207c4cfc3bb78",
            "1aa41d374ad14c53b5b7b068a773ad48",
            "7a9d0ade22104ae3b9c8f35af6cf2779",
            "e00e7ad9386a4fd889720bdd6aa72444",
            "ad024aee18f3403698f6b3273aae74c3",
            "4337cc6664d642c8be029c9f9f499371"
          ]
        },
        "id": "InRRPTyVyK0C",
        "outputId": "82cf1fcf-643f-40c8-9efd-90eabe388238"
      },
      "execution_count": 16,
      "outputs": [
        {
          "output_type": "stream",
          "name": "stderr",
          "text": [
            "INFO:huggingsound.speech_recognition.model:Loading model...\n",
            "/usr/local/lib/python3.10/dist-packages/huggingface_hub/utils/_token.py:89: UserWarning: \n",
            "The secret `HF_TOKEN` does not exist in your Colab secrets.\n",
            "To authenticate with the Hugging Face Hub, create a token in your settings tab (https://huggingface.co/settings/tokens), set it as secret in your Google Colab and restart your session.\n",
            "You will be able to reuse this secret in all of your notebooks.\n",
            "Please note that authentication is recommended but still optional to access public models or datasets.\n",
            "  warnings.warn(\n"
          ]
        },
        {
          "output_type": "display_data",
          "data": {
            "text/plain": [
              "config.json:   0%|          | 0.00/1.53k [00:00<?, ?B/s]"
            ],
            "application/vnd.jupyter.widget-view+json": {
              "version_major": 2,
              "version_minor": 0,
              "model_id": "265afd7b10424f099cd00912364363a4"
            }
          },
          "metadata": {
            "application/vnd.jupyter.widget-view+json": {
              "colab": {
                "custom_widget_manager": {
                  "url": "https://ssl.gstatic.com/colaboratory-static/widgets/colab-cdn-widget-manager/2b70e893a8ba7c0f/manager.min.js"
                }
              }
            }
          }
        },
        {
          "output_type": "display_data",
          "data": {
            "text/plain": [
              "pytorch_model.bin:   0%|          | 0.00/1.26G [00:00<?, ?B/s]"
            ],
            "application/vnd.jupyter.widget-view+json": {
              "version_major": 2,
              "version_minor": 0,
              "model_id": "b003ea8c04364ad1b0dafeea3f90c06b"
            }
          },
          "metadata": {
            "application/vnd.jupyter.widget-view+json": {
              "colab": {
                "custom_widget_manager": {
                  "url": "https://ssl.gstatic.com/colaboratory-static/widgets/colab-cdn-widget-manager/2b70e893a8ba7c0f/manager.min.js"
                }
              }
            }
          }
        },
        {
          "output_type": "stream",
          "name": "stderr",
          "text": [
            "Some weights of the model checkpoint at jonatasgrosman/wav2vec2-large-xlsr-53-french were not used when initializing Wav2Vec2ForCTC: ['wav2vec2.encoder.pos_conv_embed.conv.weight_g', 'wav2vec2.encoder.pos_conv_embed.conv.weight_v']\n",
            "- This IS expected if you are initializing Wav2Vec2ForCTC from the checkpoint of a model trained on another task or with another architecture (e.g. initializing a BertForSequenceClassification model from a BertForPreTraining model).\n",
            "- This IS NOT expected if you are initializing Wav2Vec2ForCTC from the checkpoint of a model that you expect to be exactly identical (initializing a BertForSequenceClassification model from a BertForSequenceClassification model).\n",
            "Some weights of Wav2Vec2ForCTC were not initialized from the model checkpoint at jonatasgrosman/wav2vec2-large-xlsr-53-french and are newly initialized: ['wav2vec2.encoder.pos_conv_embed.conv.parametrizations.weight.original0', 'wav2vec2.encoder.pos_conv_embed.conv.parametrizations.weight.original1']\n",
            "You should probably TRAIN this model on a down-stream task to be able to use it for predictions and inference.\n"
          ]
        },
        {
          "output_type": "display_data",
          "data": {
            "text/plain": [
              "preprocessor_config.json:   0%|          | 0.00/262 [00:00<?, ?B/s]"
            ],
            "application/vnd.jupyter.widget-view+json": {
              "version_major": 2,
              "version_minor": 0,
              "model_id": "5c8caca151b440a99967d7e53273544e"
            }
          },
          "metadata": {
            "application/vnd.jupyter.widget-view+json": {
              "colab": {
                "custom_widget_manager": {
                  "url": "https://ssl.gstatic.com/colaboratory-static/widgets/colab-cdn-widget-manager/2b70e893a8ba7c0f/manager.min.js"
                }
              }
            }
          }
        },
        {
          "output_type": "display_data",
          "data": {
            "text/plain": [
              "vocab.json:   0%|          | 0.00/560 [00:00<?, ?B/s]"
            ],
            "application/vnd.jupyter.widget-view+json": {
              "version_major": 2,
              "version_minor": 0,
              "model_id": "a5a0feecbc524b9a8c0f58f6b888f2a6"
            }
          },
          "metadata": {
            "application/vnd.jupyter.widget-view+json": {
              "colab": {
                "custom_widget_manager": {
                  "url": "https://ssl.gstatic.com/colaboratory-static/widgets/colab-cdn-widget-manager/2b70e893a8ba7c0f/manager.min.js"
                }
              }
            }
          }
        },
        {
          "output_type": "display_data",
          "data": {
            "text/plain": [
              "special_tokens_map.json:   0%|          | 0.00/85.0 [00:00<?, ?B/s]"
            ],
            "application/vnd.jupyter.widget-view+json": {
              "version_major": 2,
              "version_minor": 0,
              "model_id": "4337cc6664d642c8be029c9f9f499371"
            }
          },
          "metadata": {
            "application/vnd.jupyter.widget-view+json": {
              "colab": {
                "custom_widget_manager": {
                  "url": "https://ssl.gstatic.com/colaboratory-static/widgets/colab-cdn-widget-manager/2b70e893a8ba7c0f/manager.min.js"
                }
              }
            }
          }
        },
        {
          "output_type": "stream",
          "name": "stderr",
          "text": [
            "100%|██████████| 1/1 [00:03<00:00,  3.08s/it]\n"
          ]
        }
      ]
    },
    {
      "cell_type": "code",
      "source": [
        "# Récupérer la transcription\n",
        "transcription = transcriptions [0]['transcription']"
      ],
      "metadata": {
        "id": "1sd1lNtj66mv"
      },
      "execution_count": 18,
      "outputs": []
    },
    {
      "cell_type": "code",
      "source": [
        "print(transcription)"
      ],
      "metadata": {
        "colab": {
          "base_uri": "https://localhost:8080/"
        },
        "id": "jBY7f8x47w53",
        "outputId": "d031c015-d351-4b1b-b03e-cd106b1ec54c"
      },
      "execution_count": 19,
      "outputs": [
        {
          "output_type": "stream",
          "name": "stdout",
          "text": [
            "je mappelle kemdal\n"
          ]
        }
      ]
    },
    {
      "cell_type": "markdown",
      "source": [
        "# Evaluation du modele ASR"
      ],
      "metadata": {
        "id": "mimK2BQZLnYV"
      }
    },
    {
      "cell_type": "code",
      "source": [
        "!pip install evaluate"
      ],
      "metadata": {
        "colab": {
          "base_uri": "https://localhost:8080/"
        },
        "id": "s9X4yv65Ky7A",
        "outputId": "9eedbf75-3a20-4412-8f11-6c7dab1c90c9"
      },
      "execution_count": 21,
      "outputs": [
        {
          "output_type": "stream",
          "name": "stdout",
          "text": [
            "Collecting evaluate\n",
            "  Downloading evaluate-0.4.2-py3-none-any.whl.metadata (9.3 kB)\n",
            "Requirement already satisfied: datasets>=2.0.0 in /usr/local/lib/python3.10/dist-packages (from evaluate) (2.21.0)\n",
            "Requirement already satisfied: numpy>=1.17 in /usr/local/lib/python3.10/dist-packages (from evaluate) (1.26.4)\n",
            "Requirement already satisfied: dill in /usr/local/lib/python3.10/dist-packages (from evaluate) (0.3.8)\n",
            "Requirement already satisfied: pandas in /usr/local/lib/python3.10/dist-packages (from evaluate) (2.1.4)\n",
            "Requirement already satisfied: requests>=2.19.0 in /usr/local/lib/python3.10/dist-packages (from evaluate) (2.32.3)\n",
            "Requirement already satisfied: tqdm>=4.62.1 in /usr/local/lib/python3.10/dist-packages (from evaluate) (4.66.5)\n",
            "Requirement already satisfied: xxhash in /usr/local/lib/python3.10/dist-packages (from evaluate) (3.5.0)\n",
            "Requirement already satisfied: multiprocess in /usr/local/lib/python3.10/dist-packages (from evaluate) (0.70.16)\n",
            "Requirement already satisfied: fsspec>=2021.05.0 in /usr/local/lib/python3.10/dist-packages (from fsspec[http]>=2021.05.0->evaluate) (2024.6.1)\n",
            "Requirement already satisfied: huggingface-hub>=0.7.0 in /usr/local/lib/python3.10/dist-packages (from evaluate) (0.23.5)\n",
            "Requirement already satisfied: packaging in /usr/local/lib/python3.10/dist-packages (from evaluate) (24.1)\n",
            "Requirement already satisfied: filelock in /usr/local/lib/python3.10/dist-packages (from datasets>=2.0.0->evaluate) (3.15.4)\n",
            "Requirement already satisfied: pyarrow>=15.0.0 in /usr/local/lib/python3.10/dist-packages (from datasets>=2.0.0->evaluate) (17.0.0)\n",
            "Requirement already satisfied: aiohttp in /usr/local/lib/python3.10/dist-packages (from datasets>=2.0.0->evaluate) (3.10.5)\n",
            "Requirement already satisfied: pyyaml>=5.1 in /usr/local/lib/python3.10/dist-packages (from datasets>=2.0.0->evaluate) (6.0.2)\n",
            "Requirement already satisfied: typing-extensions>=3.7.4.3 in /usr/local/lib/python3.10/dist-packages (from huggingface-hub>=0.7.0->evaluate) (4.12.2)\n",
            "Requirement already satisfied: charset-normalizer<4,>=2 in /usr/local/lib/python3.10/dist-packages (from requests>=2.19.0->evaluate) (3.3.2)\n",
            "Requirement already satisfied: idna<4,>=2.5 in /usr/local/lib/python3.10/dist-packages (from requests>=2.19.0->evaluate) (3.8)\n",
            "Requirement already satisfied: urllib3<3,>=1.21.1 in /usr/local/lib/python3.10/dist-packages (from requests>=2.19.0->evaluate) (2.0.7)\n",
            "Requirement already satisfied: certifi>=2017.4.17 in /usr/local/lib/python3.10/dist-packages (from requests>=2.19.0->evaluate) (2024.7.4)\n",
            "Requirement already satisfied: python-dateutil>=2.8.2 in /usr/local/lib/python3.10/dist-packages (from pandas->evaluate) (2.8.2)\n",
            "Requirement already satisfied: pytz>=2020.1 in /usr/local/lib/python3.10/dist-packages (from pandas->evaluate) (2024.1)\n",
            "Requirement already satisfied: tzdata>=2022.1 in /usr/local/lib/python3.10/dist-packages (from pandas->evaluate) (2024.1)\n",
            "Requirement already satisfied: aiohappyeyeballs>=2.3.0 in /usr/local/lib/python3.10/dist-packages (from aiohttp->datasets>=2.0.0->evaluate) (2.4.0)\n",
            "Requirement already satisfied: aiosignal>=1.1.2 in /usr/local/lib/python3.10/dist-packages (from aiohttp->datasets>=2.0.0->evaluate) (1.3.1)\n",
            "Requirement already satisfied: attrs>=17.3.0 in /usr/local/lib/python3.10/dist-packages (from aiohttp->datasets>=2.0.0->evaluate) (24.2.0)\n",
            "Requirement already satisfied: frozenlist>=1.1.1 in /usr/local/lib/python3.10/dist-packages (from aiohttp->datasets>=2.0.0->evaluate) (1.4.1)\n",
            "Requirement already satisfied: multidict<7.0,>=4.5 in /usr/local/lib/python3.10/dist-packages (from aiohttp->datasets>=2.0.0->evaluate) (6.0.5)\n",
            "Requirement already satisfied: yarl<2.0,>=1.0 in /usr/local/lib/python3.10/dist-packages (from aiohttp->datasets>=2.0.0->evaluate) (1.9.4)\n",
            "Requirement already satisfied: async-timeout<5.0,>=4.0 in /usr/local/lib/python3.10/dist-packages (from aiohttp->datasets>=2.0.0->evaluate) (4.0.3)\n",
            "Requirement already satisfied: six>=1.5 in /usr/local/lib/python3.10/dist-packages (from python-dateutil>=2.8.2->pandas->evaluate) (1.16.0)\n",
            "Downloading evaluate-0.4.2-py3-none-any.whl (84 kB)\n",
            "\u001b[2K   \u001b[90m━━━━━━━━━━━━━━━━━━━━━━━━━━━━━━━━━━━━━━━━\u001b[0m \u001b[32m84.1/84.1 kB\u001b[0m \u001b[31m3.5 MB/s\u001b[0m eta \u001b[36m0:00:00\u001b[0m\n",
            "\u001b[?25hInstalling collected packages: evaluate\n",
            "Successfully installed evaluate-0.4.2\n"
          ]
        }
      ]
    },
    {
      "cell_type": "code",
      "source": [
        "audio_paths=[\"/content/file.wav\",\"/content/drive/MyDrive/common_voice_fr_17299384.wav\"]"
      ],
      "metadata": {
        "id": "agiwqauaLsoz"
      },
      "execution_count": 24,
      "outputs": []
    },
    {
      "cell_type": "code",
      "source": [
        "# Transcrire les fichiers audio\n",
        "transcriptions = model.transcribe(audio_paths)\n",
        "\n",
        "# Transcriptions générées par le modèle\n",
        "hypotheses = [transcription['transcription'] for transcription in transcriptions]"
      ],
      "metadata": {
        "colab": {
          "base_uri": "https://localhost:8080/"
        },
        "id": "RNRLOTk3Mk87",
        "outputId": "ff1c86cd-8974-4cd9-e54f-3c3fb98ce910"
      },
      "execution_count": 25,
      "outputs": [
        {
          "output_type": "stream",
          "name": "stderr",
          "text": [
            "100%|██████████| 2/2 [00:06<00:00,  3.45s/it]\n"
          ]
        }
      ]
    },
    {
      "cell_type": "code",
      "source": [
        "print(hypotheses)"
      ],
      "metadata": {
        "colab": {
          "base_uri": "https://localhost:8080/"
        },
        "id": "cVmQp_OEOGf8",
        "outputId": "9acacfc3-45a3-42ed-e239-23d7b471c4c6"
      },
      "execution_count": 31,
      "outputs": [
        {
          "output_type": "stream",
          "name": "stdout",
          "text": [
            "['je mappelle kemdal', 'faisant donc attention à utiliser les bons mauts']\n"
          ]
        }
      ]
    },
    {
      "cell_type": "code",
      "source": [
        "# Transcriptions de référence (attendues)\n",
        "references = [\n",
        "    \"je m'appelle kiemde alain\",\n",
        "    \"fesons donc attention a utiliserles bon mots\"\n",
        "]\n"
      ],
      "metadata": {
        "id": "34HZdRfVMooD"
      },
      "execution_count": 26,
      "outputs": []
    },
    {
      "cell_type": "code",
      "source": [
        "# Charger le calculateur de WER depuis la bibliothèque evaluate\n",
        "wer_metric = evaluate.load(\"wer\")\n",
        "\n",
        "# Calculer le WER\n",
        "wer_score = wer_metric.compute(predictions=hypotheses, references=references)\n",
        "\n",
        "print(f\"Word Error Rate (WER): {wer_score}\")"
      ],
      "metadata": {
        "colab": {
          "base_uri": "https://localhost:8080/"
        },
        "id": "Xe-vrnD8NEl6",
        "outputId": "02b4d009-7ffa-4eb6-9800-70c0fdb81a60"
      },
      "execution_count": 27,
      "outputs": [
        {
          "output_type": "stream",
          "name": "stdout",
          "text": [
            "Word Error Rate (WER): 0.8181818181818182\n"
          ]
        }
      ]
    },
    {
      "cell_type": "markdown",
      "source": [
        "# chargement du modèle sentiment analyse obtenu apres le fine tuning pour la classification de la transcription"
      ],
      "metadata": {
        "id": "ZTxfifrhCSEJ"
      }
    },
    {
      "cell_type": "code",
      "source": [
        "from transformers import AutoModelForSequenceClassification, AutoTokenizer\n",
        "\n",
        "# Charger le modèle et le tokenizer depuis le répertoire sauvegardé\n",
        "model = AutoModelForSequenceClassification.from_pretrained(\"/content/drive/MyDrive/checpoint_final\")\n",
        "tokenizer = AutoTokenizer.from_pretrained(\"/content/drive/MyDrive/checpoint_final\")"
      ],
      "metadata": {
        "id": "sMgFCeGz8syJ"
      },
      "execution_count": 28,
      "outputs": []
    },
    {
      "cell_type": "code",
      "source": [
        "# Tokenizer le texte\n",
        "inputs = tokenizer(transcription, return_tensors=\"pt\")"
      ],
      "metadata": {
        "id": "ovkCYCiD9F-r"
      },
      "execution_count": 29,
      "outputs": []
    },
    {
      "cell_type": "code",
      "source": [
        "import torch\n",
        "# Faire une prédiction\n",
        "with torch.no_grad():  # Désactiver la calcul de gradients pour l'inférence\n",
        "    outputs = model(**inputs)\n",
        "\n",
        "# Obtenir les logits\n",
        "logits = outputs.logits\n",
        "\n",
        "# Convertir les logits en prédictions\n",
        "predictions = logits.argmax(dim=-1)\n",
        "# Afficher la prédiction\n",
        "if predictions.item() == 0:\n",
        "    print(\"Sentiment Negative 0\")\n",
        "else:\n",
        "    print(\"Sentiment Positive 1\")"
      ],
      "metadata": {
        "colab": {
          "base_uri": "https://localhost:8080/"
        },
        "id": "s9crql9S9OnU",
        "outputId": "908073c3-b081-4b19-f619-650c340529d4"
      },
      "execution_count": 30,
      "outputs": [
        {
          "output_type": "stream",
          "name": "stdout",
          "text": [
            "Sentiment Positive 1\n"
          ]
        }
      ]
    }
  ]
}